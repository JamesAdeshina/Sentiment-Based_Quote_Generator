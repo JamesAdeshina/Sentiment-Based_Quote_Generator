{
 "cells": [
  {
   "cell_type": "code",
   "id": "initial_id",
   "metadata": {
    "collapsed": true,
    "ExecuteTime": {
     "end_time": "2024-11-29T11:31:08.879439Z",
     "start_time": "2024-11-29T11:31:08.526405Z"
    }
   },
   "source": [
    "import pandas as pd\n",
    "\n",
    "# Load the data (adjust path as needed)\n",
    "# df = pd.read_csv('data/quotes.csv', quoting=csv.QUOTE_MINIMAL)\n",
    "df = pd.read_csv('data/processed_dataset.csv')"
   ],
   "outputs": [],
   "execution_count": 9
  },
  {
   "metadata": {
    "ExecuteTime": {
     "end_time": "2024-11-29T11:40:30.687033Z",
     "start_time": "2024-11-29T11:40:30.062933Z"
    }
   },
   "cell_type": "code",
   "source": "# df.describe()\n",
   "id": "c7241d07ac88823",
   "outputs": [
    {
     "data": {
      "text/plain": [
       "                                                    quote  \\\n",
       "count                                                8198   \n",
       "unique                                               8198   \n",
       "top     I'm selfish, impatient and a little insecure. ...   \n",
       "freq                                                    1   \n",
       "\n",
       "                                        author       category  \n",
       "count                                     8195           8198  \n",
       "unique                                    3661           5531  \n",
       "top     Roy T. Bennett, The Light in the Heart  inspirational  \n",
       "freq                                       157            741  "
      ],
      "text/html": [
       "<div>\n",
       "<style scoped>\n",
       "    .dataframe tbody tr th:only-of-type {\n",
       "        vertical-align: middle;\n",
       "    }\n",
       "\n",
       "    .dataframe tbody tr th {\n",
       "        vertical-align: top;\n",
       "    }\n",
       "\n",
       "    .dataframe thead th {\n",
       "        text-align: right;\n",
       "    }\n",
       "</style>\n",
       "<table border=\"1\" class=\"dataframe\">\n",
       "  <thead>\n",
       "    <tr style=\"text-align: right;\">\n",
       "      <th></th>\n",
       "      <th>quote</th>\n",
       "      <th>author</th>\n",
       "      <th>category</th>\n",
       "    </tr>\n",
       "  </thead>\n",
       "  <tbody>\n",
       "    <tr>\n",
       "      <th>count</th>\n",
       "      <td>8198</td>\n",
       "      <td>8195</td>\n",
       "      <td>8198</td>\n",
       "    </tr>\n",
       "    <tr>\n",
       "      <th>unique</th>\n",
       "      <td>8198</td>\n",
       "      <td>3661</td>\n",
       "      <td>5531</td>\n",
       "    </tr>\n",
       "    <tr>\n",
       "      <th>top</th>\n",
       "      <td>I'm selfish, impatient and a little insecure. ...</td>\n",
       "      <td>Roy T. Bennett, The Light in the Heart</td>\n",
       "      <td>inspirational</td>\n",
       "    </tr>\n",
       "    <tr>\n",
       "      <th>freq</th>\n",
       "      <td>1</td>\n",
       "      <td>157</td>\n",
       "      <td>741</td>\n",
       "    </tr>\n",
       "  </tbody>\n",
       "</table>\n",
       "</div>"
      ]
     },
     "execution_count": 12,
     "metadata": {},
     "output_type": "execute_result"
    }
   ],
   "execution_count": 12
  },
  {
   "metadata": {},
   "cell_type": "code",
   "outputs": [],
   "execution_count": null,
   "source": "",
   "id": "d3ddb84791598bd9"
  }
 ],
 "metadata": {
  "kernelspec": {
   "display_name": "Python 3",
   "language": "python",
   "name": "python3"
  },
  "language_info": {
   "codemirror_mode": {
    "name": "ipython",
    "version": 2
   },
   "file_extension": ".py",
   "mimetype": "text/x-python",
   "name": "python",
   "nbconvert_exporter": "python",
   "pygments_lexer": "ipython2",
   "version": "2.7.6"
  }
 },
 "nbformat": 4,
 "nbformat_minor": 5
}
