{
 "cells": [
  {
   "metadata": {
    "ExecuteTime": {
     "end_time": "2024-11-29T01:35:41.906180Z",
     "start_time": "2024-11-29T01:35:41.861412Z"
    }
   },
   "cell_type": "code",
   "source": [
    "import nltk\n",
    "nltk.download('vader_lexicon')\n",
    "import pandas as pd\n"
   ],
   "id": "588d6edf08c38941",
   "outputs": [
    {
     "name": "stderr",
     "output_type": "stream",
     "text": [
      "[nltk_data] Downloading package vader_lexicon to\n",
      "[nltk_data]     /Users/apple2015/nltk_data...\n",
      "[nltk_data]   Package vader_lexicon is already up-to-date!\n"
     ]
    }
   ],
   "execution_count": 11
  },
  {
   "metadata": {
    "ExecuteTime": {
     "end_time": "2024-11-29T01:35:52.341582Z",
     "start_time": "2024-11-29T01:35:47.431644Z"
    }
   },
   "cell_type": "code",
   "source": "import dask.dataframe as dd",
   "id": "726eae7bdd0069a",
   "outputs": [],
   "execution_count": 12
  },
  {
   "metadata": {
    "collapsed": true,
    "ExecuteTime": {
     "end_time": "2024-11-29T11:27:53.158158Z",
     "start_time": "2024-11-29T11:27:52.110550Z"
    }
   },
   "cell_type": "code",
   "source": [
    "# Load your dataset\n",
    "df = dd.read_csv('data/quotes.csv')"
   ],
   "id": "initial_id",
   "outputs": [],
   "execution_count": 24
  },
  {
   "metadata": {},
   "cell_type": "markdown",
   "source": "Processing data in Batches",
   "id": "114ec9e0ac2ad2d9"
  },
  {
   "metadata": {
    "ExecuteTime": {
     "end_time": "2024-11-29T01:20:45.814203Z",
     "start_time": "2024-11-29T01:20:45.608076Z"
    }
   },
   "cell_type": "code",
   "source": "df.info()",
   "id": "79935e9d6ecc8104",
   "outputs": [
    {
     "name": "stdout",
     "output_type": "stream",
     "text": [
      "<class 'pandas.core.frame.DataFrame'>\n",
      "RangeIndex: 499709 entries, 0 to 499708\n",
      "Data columns (total 3 columns):\n",
      " #   Column    Non-Null Count   Dtype \n",
      "---  ------    --------------   ----- \n",
      " 0   quote     499708 non-null  object\n",
      " 1   author    497956 non-null  object\n",
      " 2   category  499646 non-null  object\n",
      "dtypes: object(3)\n",
      "memory usage: 11.4+ MB\n"
     ]
    }
   ],
   "execution_count": 4
  },
  {
   "metadata": {
    "ExecuteTime": {
     "end_time": "2024-11-29T01:28:45.478193Z",
     "start_time": "2024-11-29T01:28:45.367104Z"
    }
   },
   "cell_type": "code",
   "source": [
    "#function to add sentiment\n",
    "from nltk.sentiment.vader import SentimentIntensityAnalyzer\n",
    "\n",
    "sia =  SentimentIntensityAnalyzer()\n",
    "\n",
    "#function to get sentiment labels\n",
    "def get_sentiment_label(quote_v):\n",
    "    sentiment = sia.polarity_scores(quote_v)\n",
    "    compound = sentiment['compound']\n",
    "    if compound >= 0.05:\n",
    "        return \"Positive\"\n",
    "    elif compound <= -0.05:\n",
    "        return \"Negative\"\n",
    "    else:\n",
    "        return \"Neutral\"\n",
    "\n",
    "\n"
   ],
   "id": "6263c47dacfdd24a",
   "outputs": [],
   "execution_count": 9
  },
  {
   "metadata": {
    "ExecuteTime": {
     "end_time": "2024-11-29T01:32:50.655161Z",
     "start_time": "2024-11-29T01:28:46.839573Z"
    }
   },
   "cell_type": "code",
   "source": [
    "batch_size = 10000\n",
    "results = []\n",
    "#\n",
    "# for start in range(0, len(df), batch_size):\n",
    "#     batch = df.iloc[start:start + batch_size]\n",
    "#     batch['sentiment'] = batch['quote'].apply(get_sentiment_label)\n",
    "#     results.append(batch)\n",
    "#\n",
    "#\n",
    "# # Combine batches\n",
    "# df = pd.concat(results, ignore_index=True)\n",
    "#\n",
    "# # Save results to a file\n",
    "# df.to_csv('processed_dataset.csv', index=False)"
   ],
   "id": "a5d8fdcf3a37b5c9",
   "outputs": [
    {
     "name": "stderr",
     "output_type": "stream",
     "text": [
      "/var/folders/vq/2z3hvmh94k13pb_1b0fmr7wm0000gn/T/ipykernel_40491/3352971751.py:6: SettingWithCopyWarning: \n",
      "A value is trying to be set on a copy of a slice from a DataFrame.\n",
      "Try using .loc[row_indexer,col_indexer] = value instead\n",
      "\n",
      "See the caveats in the documentation: https://pandas.pydata.org/pandas-docs/stable/user_guide/indexing.html#returning-a-view-versus-a-copy\n",
      "  batch['sentiment'] = batch['quote'].apply(get_sentiment_label)\n",
      "/var/folders/vq/2z3hvmh94k13pb_1b0fmr7wm0000gn/T/ipykernel_40491/3352971751.py:6: SettingWithCopyWarning: \n",
      "A value is trying to be set on a copy of a slice from a DataFrame.\n",
      "Try using .loc[row_indexer,col_indexer] = value instead\n",
      "\n",
      "See the caveats in the documentation: https://pandas.pydata.org/pandas-docs/stable/user_guide/indexing.html#returning-a-view-versus-a-copy\n",
      "  batch['sentiment'] = batch['quote'].apply(get_sentiment_label)\n",
      "/var/folders/vq/2z3hvmh94k13pb_1b0fmr7wm0000gn/T/ipykernel_40491/3352971751.py:6: SettingWithCopyWarning: \n",
      "A value is trying to be set on a copy of a slice from a DataFrame.\n",
      "Try using .loc[row_indexer,col_indexer] = value instead\n",
      "\n",
      "See the caveats in the documentation: https://pandas.pydata.org/pandas-docs/stable/user_guide/indexing.html#returning-a-view-versus-a-copy\n",
      "  batch['sentiment'] = batch['quote'].apply(get_sentiment_label)\n",
      "/var/folders/vq/2z3hvmh94k13pb_1b0fmr7wm0000gn/T/ipykernel_40491/3352971751.py:6: SettingWithCopyWarning: \n",
      "A value is trying to be set on a copy of a slice from a DataFrame.\n",
      "Try using .loc[row_indexer,col_indexer] = value instead\n",
      "\n",
      "See the caveats in the documentation: https://pandas.pydata.org/pandas-docs/stable/user_guide/indexing.html#returning-a-view-versus-a-copy\n",
      "  batch['sentiment'] = batch['quote'].apply(get_sentiment_label)\n",
      "/var/folders/vq/2z3hvmh94k13pb_1b0fmr7wm0000gn/T/ipykernel_40491/3352971751.py:6: SettingWithCopyWarning: \n",
      "A value is trying to be set on a copy of a slice from a DataFrame.\n",
      "Try using .loc[row_indexer,col_indexer] = value instead\n",
      "\n",
      "See the caveats in the documentation: https://pandas.pydata.org/pandas-docs/stable/user_guide/indexing.html#returning-a-view-versus-a-copy\n",
      "  batch['sentiment'] = batch['quote'].apply(get_sentiment_label)\n",
      "/var/folders/vq/2z3hvmh94k13pb_1b0fmr7wm0000gn/T/ipykernel_40491/3352971751.py:6: SettingWithCopyWarning: \n",
      "A value is trying to be set on a copy of a slice from a DataFrame.\n",
      "Try using .loc[row_indexer,col_indexer] = value instead\n",
      "\n",
      "See the caveats in the documentation: https://pandas.pydata.org/pandas-docs/stable/user_guide/indexing.html#returning-a-view-versus-a-copy\n",
      "  batch['sentiment'] = batch['quote'].apply(get_sentiment_label)\n",
      "/var/folders/vq/2z3hvmh94k13pb_1b0fmr7wm0000gn/T/ipykernel_40491/3352971751.py:6: SettingWithCopyWarning: \n",
      "A value is trying to be set on a copy of a slice from a DataFrame.\n",
      "Try using .loc[row_indexer,col_indexer] = value instead\n",
      "\n",
      "See the caveats in the documentation: https://pandas.pydata.org/pandas-docs/stable/user_guide/indexing.html#returning-a-view-versus-a-copy\n",
      "  batch['sentiment'] = batch['quote'].apply(get_sentiment_label)\n",
      "/var/folders/vq/2z3hvmh94k13pb_1b0fmr7wm0000gn/T/ipykernel_40491/3352971751.py:6: SettingWithCopyWarning: \n",
      "A value is trying to be set on a copy of a slice from a DataFrame.\n",
      "Try using .loc[row_indexer,col_indexer] = value instead\n",
      "\n",
      "See the caveats in the documentation: https://pandas.pydata.org/pandas-docs/stable/user_guide/indexing.html#returning-a-view-versus-a-copy\n",
      "  batch['sentiment'] = batch['quote'].apply(get_sentiment_label)\n",
      "/var/folders/vq/2z3hvmh94k13pb_1b0fmr7wm0000gn/T/ipykernel_40491/3352971751.py:6: SettingWithCopyWarning: \n",
      "A value is trying to be set on a copy of a slice from a DataFrame.\n",
      "Try using .loc[row_indexer,col_indexer] = value instead\n",
      "\n",
      "See the caveats in the documentation: https://pandas.pydata.org/pandas-docs/stable/user_guide/indexing.html#returning-a-view-versus-a-copy\n",
      "  batch['sentiment'] = batch['quote'].apply(get_sentiment_label)\n",
      "/var/folders/vq/2z3hvmh94k13pb_1b0fmr7wm0000gn/T/ipykernel_40491/3352971751.py:6: SettingWithCopyWarning: \n",
      "A value is trying to be set on a copy of a slice from a DataFrame.\n",
      "Try using .loc[row_indexer,col_indexer] = value instead\n",
      "\n",
      "See the caveats in the documentation: https://pandas.pydata.org/pandas-docs/stable/user_guide/indexing.html#returning-a-view-versus-a-copy\n",
      "  batch['sentiment'] = batch['quote'].apply(get_sentiment_label)\n",
      "/var/folders/vq/2z3hvmh94k13pb_1b0fmr7wm0000gn/T/ipykernel_40491/3352971751.py:6: SettingWithCopyWarning: \n",
      "A value is trying to be set on a copy of a slice from a DataFrame.\n",
      "Try using .loc[row_indexer,col_indexer] = value instead\n",
      "\n",
      "See the caveats in the documentation: https://pandas.pydata.org/pandas-docs/stable/user_guide/indexing.html#returning-a-view-versus-a-copy\n",
      "  batch['sentiment'] = batch['quote'].apply(get_sentiment_label)\n",
      "/var/folders/vq/2z3hvmh94k13pb_1b0fmr7wm0000gn/T/ipykernel_40491/3352971751.py:6: SettingWithCopyWarning: \n",
      "A value is trying to be set on a copy of a slice from a DataFrame.\n",
      "Try using .loc[row_indexer,col_indexer] = value instead\n",
      "\n",
      "See the caveats in the documentation: https://pandas.pydata.org/pandas-docs/stable/user_guide/indexing.html#returning-a-view-versus-a-copy\n",
      "  batch['sentiment'] = batch['quote'].apply(get_sentiment_label)\n",
      "/var/folders/vq/2z3hvmh94k13pb_1b0fmr7wm0000gn/T/ipykernel_40491/3352971751.py:6: SettingWithCopyWarning: \n",
      "A value is trying to be set on a copy of a slice from a DataFrame.\n",
      "Try using .loc[row_indexer,col_indexer] = value instead\n",
      "\n",
      "See the caveats in the documentation: https://pandas.pydata.org/pandas-docs/stable/user_guide/indexing.html#returning-a-view-versus-a-copy\n",
      "  batch['sentiment'] = batch['quote'].apply(get_sentiment_label)\n",
      "/var/folders/vq/2z3hvmh94k13pb_1b0fmr7wm0000gn/T/ipykernel_40491/3352971751.py:6: SettingWithCopyWarning: \n",
      "A value is trying to be set on a copy of a slice from a DataFrame.\n",
      "Try using .loc[row_indexer,col_indexer] = value instead\n",
      "\n",
      "See the caveats in the documentation: https://pandas.pydata.org/pandas-docs/stable/user_guide/indexing.html#returning-a-view-versus-a-copy\n",
      "  batch['sentiment'] = batch['quote'].apply(get_sentiment_label)\n",
      "/var/folders/vq/2z3hvmh94k13pb_1b0fmr7wm0000gn/T/ipykernel_40491/3352971751.py:6: SettingWithCopyWarning: \n",
      "A value is trying to be set on a copy of a slice from a DataFrame.\n",
      "Try using .loc[row_indexer,col_indexer] = value instead\n",
      "\n",
      "See the caveats in the documentation: https://pandas.pydata.org/pandas-docs/stable/user_guide/indexing.html#returning-a-view-versus-a-copy\n",
      "  batch['sentiment'] = batch['quote'].apply(get_sentiment_label)\n",
      "/var/folders/vq/2z3hvmh94k13pb_1b0fmr7wm0000gn/T/ipykernel_40491/3352971751.py:6: SettingWithCopyWarning: \n",
      "A value is trying to be set on a copy of a slice from a DataFrame.\n",
      "Try using .loc[row_indexer,col_indexer] = value instead\n",
      "\n",
      "See the caveats in the documentation: https://pandas.pydata.org/pandas-docs/stable/user_guide/indexing.html#returning-a-view-versus-a-copy\n",
      "  batch['sentiment'] = batch['quote'].apply(get_sentiment_label)\n",
      "/var/folders/vq/2z3hvmh94k13pb_1b0fmr7wm0000gn/T/ipykernel_40491/3352971751.py:6: SettingWithCopyWarning: \n",
      "A value is trying to be set on a copy of a slice from a DataFrame.\n",
      "Try using .loc[row_indexer,col_indexer] = value instead\n",
      "\n",
      "See the caveats in the documentation: https://pandas.pydata.org/pandas-docs/stable/user_guide/indexing.html#returning-a-view-versus-a-copy\n",
      "  batch['sentiment'] = batch['quote'].apply(get_sentiment_label)\n",
      "/var/folders/vq/2z3hvmh94k13pb_1b0fmr7wm0000gn/T/ipykernel_40491/3352971751.py:6: SettingWithCopyWarning: \n",
      "A value is trying to be set on a copy of a slice from a DataFrame.\n",
      "Try using .loc[row_indexer,col_indexer] = value instead\n",
      "\n",
      "See the caveats in the documentation: https://pandas.pydata.org/pandas-docs/stable/user_guide/indexing.html#returning-a-view-versus-a-copy\n",
      "  batch['sentiment'] = batch['quote'].apply(get_sentiment_label)\n",
      "/var/folders/vq/2z3hvmh94k13pb_1b0fmr7wm0000gn/T/ipykernel_40491/3352971751.py:6: SettingWithCopyWarning: \n",
      "A value is trying to be set on a copy of a slice from a DataFrame.\n",
      "Try using .loc[row_indexer,col_indexer] = value instead\n",
      "\n",
      "See the caveats in the documentation: https://pandas.pydata.org/pandas-docs/stable/user_guide/indexing.html#returning-a-view-versus-a-copy\n",
      "  batch['sentiment'] = batch['quote'].apply(get_sentiment_label)\n",
      "/var/folders/vq/2z3hvmh94k13pb_1b0fmr7wm0000gn/T/ipykernel_40491/3352971751.py:6: SettingWithCopyWarning: \n",
      "A value is trying to be set on a copy of a slice from a DataFrame.\n",
      "Try using .loc[row_indexer,col_indexer] = value instead\n",
      "\n",
      "See the caveats in the documentation: https://pandas.pydata.org/pandas-docs/stable/user_guide/indexing.html#returning-a-view-versus-a-copy\n",
      "  batch['sentiment'] = batch['quote'].apply(get_sentiment_label)\n",
      "/var/folders/vq/2z3hvmh94k13pb_1b0fmr7wm0000gn/T/ipykernel_40491/3352971751.py:6: SettingWithCopyWarning: \n",
      "A value is trying to be set on a copy of a slice from a DataFrame.\n",
      "Try using .loc[row_indexer,col_indexer] = value instead\n",
      "\n",
      "See the caveats in the documentation: https://pandas.pydata.org/pandas-docs/stable/user_guide/indexing.html#returning-a-view-versus-a-copy\n",
      "  batch['sentiment'] = batch['quote'].apply(get_sentiment_label)\n",
      "/var/folders/vq/2z3hvmh94k13pb_1b0fmr7wm0000gn/T/ipykernel_40491/3352971751.py:6: SettingWithCopyWarning: \n",
      "A value is trying to be set on a copy of a slice from a DataFrame.\n",
      "Try using .loc[row_indexer,col_indexer] = value instead\n",
      "\n",
      "See the caveats in the documentation: https://pandas.pydata.org/pandas-docs/stable/user_guide/indexing.html#returning-a-view-versus-a-copy\n",
      "  batch['sentiment'] = batch['quote'].apply(get_sentiment_label)\n",
      "/var/folders/vq/2z3hvmh94k13pb_1b0fmr7wm0000gn/T/ipykernel_40491/3352971751.py:6: SettingWithCopyWarning: \n",
      "A value is trying to be set on a copy of a slice from a DataFrame.\n",
      "Try using .loc[row_indexer,col_indexer] = value instead\n",
      "\n",
      "See the caveats in the documentation: https://pandas.pydata.org/pandas-docs/stable/user_guide/indexing.html#returning-a-view-versus-a-copy\n",
      "  batch['sentiment'] = batch['quote'].apply(get_sentiment_label)\n",
      "/var/folders/vq/2z3hvmh94k13pb_1b0fmr7wm0000gn/T/ipykernel_40491/3352971751.py:6: SettingWithCopyWarning: \n",
      "A value is trying to be set on a copy of a slice from a DataFrame.\n",
      "Try using .loc[row_indexer,col_indexer] = value instead\n",
      "\n",
      "See the caveats in the documentation: https://pandas.pydata.org/pandas-docs/stable/user_guide/indexing.html#returning-a-view-versus-a-copy\n",
      "  batch['sentiment'] = batch['quote'].apply(get_sentiment_label)\n",
      "/var/folders/vq/2z3hvmh94k13pb_1b0fmr7wm0000gn/T/ipykernel_40491/3352971751.py:6: SettingWithCopyWarning: \n",
      "A value is trying to be set on a copy of a slice from a DataFrame.\n",
      "Try using .loc[row_indexer,col_indexer] = value instead\n",
      "\n",
      "See the caveats in the documentation: https://pandas.pydata.org/pandas-docs/stable/user_guide/indexing.html#returning-a-view-versus-a-copy\n",
      "  batch['sentiment'] = batch['quote'].apply(get_sentiment_label)\n",
      "/var/folders/vq/2z3hvmh94k13pb_1b0fmr7wm0000gn/T/ipykernel_40491/3352971751.py:6: SettingWithCopyWarning: \n",
      "A value is trying to be set on a copy of a slice from a DataFrame.\n",
      "Try using .loc[row_indexer,col_indexer] = value instead\n",
      "\n",
      "See the caveats in the documentation: https://pandas.pydata.org/pandas-docs/stable/user_guide/indexing.html#returning-a-view-versus-a-copy\n",
      "  batch['sentiment'] = batch['quote'].apply(get_sentiment_label)\n",
      "/var/folders/vq/2z3hvmh94k13pb_1b0fmr7wm0000gn/T/ipykernel_40491/3352971751.py:6: SettingWithCopyWarning: \n",
      "A value is trying to be set on a copy of a slice from a DataFrame.\n",
      "Try using .loc[row_indexer,col_indexer] = value instead\n",
      "\n",
      "See the caveats in the documentation: https://pandas.pydata.org/pandas-docs/stable/user_guide/indexing.html#returning-a-view-versus-a-copy\n",
      "  batch['sentiment'] = batch['quote'].apply(get_sentiment_label)\n",
      "/var/folders/vq/2z3hvmh94k13pb_1b0fmr7wm0000gn/T/ipykernel_40491/3352971751.py:6: SettingWithCopyWarning: \n",
      "A value is trying to be set on a copy of a slice from a DataFrame.\n",
      "Try using .loc[row_indexer,col_indexer] = value instead\n",
      "\n",
      "See the caveats in the documentation: https://pandas.pydata.org/pandas-docs/stable/user_guide/indexing.html#returning-a-view-versus-a-copy\n",
      "  batch['sentiment'] = batch['quote'].apply(get_sentiment_label)\n",
      "/var/folders/vq/2z3hvmh94k13pb_1b0fmr7wm0000gn/T/ipykernel_40491/3352971751.py:6: SettingWithCopyWarning: \n",
      "A value is trying to be set on a copy of a slice from a DataFrame.\n",
      "Try using .loc[row_indexer,col_indexer] = value instead\n",
      "\n",
      "See the caveats in the documentation: https://pandas.pydata.org/pandas-docs/stable/user_guide/indexing.html#returning-a-view-versus-a-copy\n",
      "  batch['sentiment'] = batch['quote'].apply(get_sentiment_label)\n",
      "/var/folders/vq/2z3hvmh94k13pb_1b0fmr7wm0000gn/T/ipykernel_40491/3352971751.py:6: SettingWithCopyWarning: \n",
      "A value is trying to be set on a copy of a slice from a DataFrame.\n",
      "Try using .loc[row_indexer,col_indexer] = value instead\n",
      "\n",
      "See the caveats in the documentation: https://pandas.pydata.org/pandas-docs/stable/user_guide/indexing.html#returning-a-view-versus-a-copy\n",
      "  batch['sentiment'] = batch['quote'].apply(get_sentiment_label)\n",
      "/var/folders/vq/2z3hvmh94k13pb_1b0fmr7wm0000gn/T/ipykernel_40491/3352971751.py:6: SettingWithCopyWarning: \n",
      "A value is trying to be set on a copy of a slice from a DataFrame.\n",
      "Try using .loc[row_indexer,col_indexer] = value instead\n",
      "\n",
      "See the caveats in the documentation: https://pandas.pydata.org/pandas-docs/stable/user_guide/indexing.html#returning-a-view-versus-a-copy\n",
      "  batch['sentiment'] = batch['quote'].apply(get_sentiment_label)\n",
      "/var/folders/vq/2z3hvmh94k13pb_1b0fmr7wm0000gn/T/ipykernel_40491/3352971751.py:6: SettingWithCopyWarning: \n",
      "A value is trying to be set on a copy of a slice from a DataFrame.\n",
      "Try using .loc[row_indexer,col_indexer] = value instead\n",
      "\n",
      "See the caveats in the documentation: https://pandas.pydata.org/pandas-docs/stable/user_guide/indexing.html#returning-a-view-versus-a-copy\n",
      "  batch['sentiment'] = batch['quote'].apply(get_sentiment_label)\n",
      "/var/folders/vq/2z3hvmh94k13pb_1b0fmr7wm0000gn/T/ipykernel_40491/3352971751.py:6: SettingWithCopyWarning: \n",
      "A value is trying to be set on a copy of a slice from a DataFrame.\n",
      "Try using .loc[row_indexer,col_indexer] = value instead\n",
      "\n",
      "See the caveats in the documentation: https://pandas.pydata.org/pandas-docs/stable/user_guide/indexing.html#returning-a-view-versus-a-copy\n",
      "  batch['sentiment'] = batch['quote'].apply(get_sentiment_label)\n",
      "/var/folders/vq/2z3hvmh94k13pb_1b0fmr7wm0000gn/T/ipykernel_40491/3352971751.py:6: SettingWithCopyWarning: \n",
      "A value is trying to be set on a copy of a slice from a DataFrame.\n",
      "Try using .loc[row_indexer,col_indexer] = value instead\n",
      "\n",
      "See the caveats in the documentation: https://pandas.pydata.org/pandas-docs/stable/user_guide/indexing.html#returning-a-view-versus-a-copy\n",
      "  batch['sentiment'] = batch['quote'].apply(get_sentiment_label)\n",
      "/var/folders/vq/2z3hvmh94k13pb_1b0fmr7wm0000gn/T/ipykernel_40491/3352971751.py:6: SettingWithCopyWarning: \n",
      "A value is trying to be set on a copy of a slice from a DataFrame.\n",
      "Try using .loc[row_indexer,col_indexer] = value instead\n",
      "\n",
      "See the caveats in the documentation: https://pandas.pydata.org/pandas-docs/stable/user_guide/indexing.html#returning-a-view-versus-a-copy\n",
      "  batch['sentiment'] = batch['quote'].apply(get_sentiment_label)\n",
      "/var/folders/vq/2z3hvmh94k13pb_1b0fmr7wm0000gn/T/ipykernel_40491/3352971751.py:6: SettingWithCopyWarning: \n",
      "A value is trying to be set on a copy of a slice from a DataFrame.\n",
      "Try using .loc[row_indexer,col_indexer] = value instead\n",
      "\n",
      "See the caveats in the documentation: https://pandas.pydata.org/pandas-docs/stable/user_guide/indexing.html#returning-a-view-versus-a-copy\n",
      "  batch['sentiment'] = batch['quote'].apply(get_sentiment_label)\n",
      "/var/folders/vq/2z3hvmh94k13pb_1b0fmr7wm0000gn/T/ipykernel_40491/3352971751.py:6: SettingWithCopyWarning: \n",
      "A value is trying to be set on a copy of a slice from a DataFrame.\n",
      "Try using .loc[row_indexer,col_indexer] = value instead\n",
      "\n",
      "See the caveats in the documentation: https://pandas.pydata.org/pandas-docs/stable/user_guide/indexing.html#returning-a-view-versus-a-copy\n",
      "  batch['sentiment'] = batch['quote'].apply(get_sentiment_label)\n",
      "/var/folders/vq/2z3hvmh94k13pb_1b0fmr7wm0000gn/T/ipykernel_40491/3352971751.py:6: SettingWithCopyWarning: \n",
      "A value is trying to be set on a copy of a slice from a DataFrame.\n",
      "Try using .loc[row_indexer,col_indexer] = value instead\n",
      "\n",
      "See the caveats in the documentation: https://pandas.pydata.org/pandas-docs/stable/user_guide/indexing.html#returning-a-view-versus-a-copy\n",
      "  batch['sentiment'] = batch['quote'].apply(get_sentiment_label)\n",
      "/var/folders/vq/2z3hvmh94k13pb_1b0fmr7wm0000gn/T/ipykernel_40491/3352971751.py:6: SettingWithCopyWarning: \n",
      "A value is trying to be set on a copy of a slice from a DataFrame.\n",
      "Try using .loc[row_indexer,col_indexer] = value instead\n",
      "\n",
      "See the caveats in the documentation: https://pandas.pydata.org/pandas-docs/stable/user_guide/indexing.html#returning-a-view-versus-a-copy\n",
      "  batch['sentiment'] = batch['quote'].apply(get_sentiment_label)\n",
      "/var/folders/vq/2z3hvmh94k13pb_1b0fmr7wm0000gn/T/ipykernel_40491/3352971751.py:6: SettingWithCopyWarning: \n",
      "A value is trying to be set on a copy of a slice from a DataFrame.\n",
      "Try using .loc[row_indexer,col_indexer] = value instead\n",
      "\n",
      "See the caveats in the documentation: https://pandas.pydata.org/pandas-docs/stable/user_guide/indexing.html#returning-a-view-versus-a-copy\n",
      "  batch['sentiment'] = batch['quote'].apply(get_sentiment_label)\n",
      "/var/folders/vq/2z3hvmh94k13pb_1b0fmr7wm0000gn/T/ipykernel_40491/3352971751.py:6: SettingWithCopyWarning: \n",
      "A value is trying to be set on a copy of a slice from a DataFrame.\n",
      "Try using .loc[row_indexer,col_indexer] = value instead\n",
      "\n",
      "See the caveats in the documentation: https://pandas.pydata.org/pandas-docs/stable/user_guide/indexing.html#returning-a-view-versus-a-copy\n",
      "  batch['sentiment'] = batch['quote'].apply(get_sentiment_label)\n",
      "/var/folders/vq/2z3hvmh94k13pb_1b0fmr7wm0000gn/T/ipykernel_40491/3352971751.py:6: SettingWithCopyWarning: \n",
      "A value is trying to be set on a copy of a slice from a DataFrame.\n",
      "Try using .loc[row_indexer,col_indexer] = value instead\n",
      "\n",
      "See the caveats in the documentation: https://pandas.pydata.org/pandas-docs/stable/user_guide/indexing.html#returning-a-view-versus-a-copy\n",
      "  batch['sentiment'] = batch['quote'].apply(get_sentiment_label)\n"
     ]
    },
    {
     "ename": "AttributeError",
     "evalue": "'float' object has no attribute 'encode'",
     "output_type": "error",
     "traceback": [
      "\u001B[0;31m---------------------------------------------------------------------------\u001B[0m",
      "\u001B[0;31mAttributeError\u001B[0m                            Traceback (most recent call last)",
      "Cell \u001B[0;32mIn[10], line 6\u001B[0m\n\u001B[1;32m      4\u001B[0m \u001B[38;5;28;01mfor\u001B[39;00m start \u001B[38;5;129;01min\u001B[39;00m \u001B[38;5;28mrange\u001B[39m(\u001B[38;5;241m0\u001B[39m, \u001B[38;5;28mlen\u001B[39m(df), batch_size):\n\u001B[1;32m      5\u001B[0m     batch \u001B[38;5;241m=\u001B[39m df\u001B[38;5;241m.\u001B[39miloc[start:start \u001B[38;5;241m+\u001B[39m batch_size]\n\u001B[0;32m----> 6\u001B[0m     batch[\u001B[38;5;124m'\u001B[39m\u001B[38;5;124msentiment\u001B[39m\u001B[38;5;124m'\u001B[39m] \u001B[38;5;241m=\u001B[39m batch[\u001B[38;5;124m'\u001B[39m\u001B[38;5;124mquote\u001B[39m\u001B[38;5;124m'\u001B[39m]\u001B[38;5;241m.\u001B[39mapply(get_sentiment_label)\n\u001B[1;32m      7\u001B[0m     results\u001B[38;5;241m.\u001B[39mappend(batch)\n\u001B[1;32m     10\u001B[0m \u001B[38;5;66;03m# Combine batches\u001B[39;00m\n",
      "File \u001B[0;32m/opt/anaconda3/lib/python3.12/site-packages/pandas/core/series.py:4924\u001B[0m, in \u001B[0;36mSeries.apply\u001B[0;34m(self, func, convert_dtype, args, by_row, **kwargs)\u001B[0m\n\u001B[1;32m   4789\u001B[0m \u001B[38;5;28;01mdef\u001B[39;00m \u001B[38;5;21mapply\u001B[39m(\n\u001B[1;32m   4790\u001B[0m     \u001B[38;5;28mself\u001B[39m,\n\u001B[1;32m   4791\u001B[0m     func: AggFuncType,\n\u001B[0;32m   (...)\u001B[0m\n\u001B[1;32m   4796\u001B[0m     \u001B[38;5;241m*\u001B[39m\u001B[38;5;241m*\u001B[39mkwargs,\n\u001B[1;32m   4797\u001B[0m ) \u001B[38;5;241m-\u001B[39m\u001B[38;5;241m>\u001B[39m DataFrame \u001B[38;5;241m|\u001B[39m Series:\n\u001B[1;32m   4798\u001B[0m \u001B[38;5;250m    \u001B[39m\u001B[38;5;124;03m\"\"\"\u001B[39;00m\n\u001B[1;32m   4799\u001B[0m \u001B[38;5;124;03m    Invoke function on values of Series.\u001B[39;00m\n\u001B[1;32m   4800\u001B[0m \n\u001B[0;32m   (...)\u001B[0m\n\u001B[1;32m   4915\u001B[0m \u001B[38;5;124;03m    dtype: float64\u001B[39;00m\n\u001B[1;32m   4916\u001B[0m \u001B[38;5;124;03m    \"\"\"\u001B[39;00m\n\u001B[1;32m   4917\u001B[0m     \u001B[38;5;28;01mreturn\u001B[39;00m SeriesApply(\n\u001B[1;32m   4918\u001B[0m         \u001B[38;5;28mself\u001B[39m,\n\u001B[1;32m   4919\u001B[0m         func,\n\u001B[1;32m   4920\u001B[0m         convert_dtype\u001B[38;5;241m=\u001B[39mconvert_dtype,\n\u001B[1;32m   4921\u001B[0m         by_row\u001B[38;5;241m=\u001B[39mby_row,\n\u001B[1;32m   4922\u001B[0m         args\u001B[38;5;241m=\u001B[39margs,\n\u001B[1;32m   4923\u001B[0m         kwargs\u001B[38;5;241m=\u001B[39mkwargs,\n\u001B[0;32m-> 4924\u001B[0m     )\u001B[38;5;241m.\u001B[39mapply()\n",
      "File \u001B[0;32m/opt/anaconda3/lib/python3.12/site-packages/pandas/core/apply.py:1427\u001B[0m, in \u001B[0;36mSeriesApply.apply\u001B[0;34m(self)\u001B[0m\n\u001B[1;32m   1424\u001B[0m     \u001B[38;5;28;01mreturn\u001B[39;00m \u001B[38;5;28mself\u001B[39m\u001B[38;5;241m.\u001B[39mapply_compat()\n\u001B[1;32m   1426\u001B[0m \u001B[38;5;66;03m# self.func is Callable\u001B[39;00m\n\u001B[0;32m-> 1427\u001B[0m \u001B[38;5;28;01mreturn\u001B[39;00m \u001B[38;5;28mself\u001B[39m\u001B[38;5;241m.\u001B[39mapply_standard()\n",
      "File \u001B[0;32m/opt/anaconda3/lib/python3.12/site-packages/pandas/core/apply.py:1507\u001B[0m, in \u001B[0;36mSeriesApply.apply_standard\u001B[0;34m(self)\u001B[0m\n\u001B[1;32m   1501\u001B[0m \u001B[38;5;66;03m# row-wise access\u001B[39;00m\n\u001B[1;32m   1502\u001B[0m \u001B[38;5;66;03m# apply doesn't have a `na_action` keyword and for backward compat reasons\u001B[39;00m\n\u001B[1;32m   1503\u001B[0m \u001B[38;5;66;03m# we need to give `na_action=\"ignore\"` for categorical data.\u001B[39;00m\n\u001B[1;32m   1504\u001B[0m \u001B[38;5;66;03m# TODO: remove the `na_action=\"ignore\"` when that default has been changed in\u001B[39;00m\n\u001B[1;32m   1505\u001B[0m \u001B[38;5;66;03m#  Categorical (GH51645).\u001B[39;00m\n\u001B[1;32m   1506\u001B[0m action \u001B[38;5;241m=\u001B[39m \u001B[38;5;124m\"\u001B[39m\u001B[38;5;124mignore\u001B[39m\u001B[38;5;124m\"\u001B[39m \u001B[38;5;28;01mif\u001B[39;00m \u001B[38;5;28misinstance\u001B[39m(obj\u001B[38;5;241m.\u001B[39mdtype, CategoricalDtype) \u001B[38;5;28;01melse\u001B[39;00m \u001B[38;5;28;01mNone\u001B[39;00m\n\u001B[0;32m-> 1507\u001B[0m mapped \u001B[38;5;241m=\u001B[39m obj\u001B[38;5;241m.\u001B[39m_map_values(\n\u001B[1;32m   1508\u001B[0m     mapper\u001B[38;5;241m=\u001B[39mcurried, na_action\u001B[38;5;241m=\u001B[39maction, convert\u001B[38;5;241m=\u001B[39m\u001B[38;5;28mself\u001B[39m\u001B[38;5;241m.\u001B[39mconvert_dtype\n\u001B[1;32m   1509\u001B[0m )\n\u001B[1;32m   1511\u001B[0m \u001B[38;5;28;01mif\u001B[39;00m \u001B[38;5;28mlen\u001B[39m(mapped) \u001B[38;5;129;01mand\u001B[39;00m \u001B[38;5;28misinstance\u001B[39m(mapped[\u001B[38;5;241m0\u001B[39m], ABCSeries):\n\u001B[1;32m   1512\u001B[0m     \u001B[38;5;66;03m# GH#43986 Need to do list(mapped) in order to get treated as nested\u001B[39;00m\n\u001B[1;32m   1513\u001B[0m     \u001B[38;5;66;03m#  See also GH#25959 regarding EA support\u001B[39;00m\n\u001B[1;32m   1514\u001B[0m     \u001B[38;5;28;01mreturn\u001B[39;00m obj\u001B[38;5;241m.\u001B[39m_constructor_expanddim(\u001B[38;5;28mlist\u001B[39m(mapped), index\u001B[38;5;241m=\u001B[39mobj\u001B[38;5;241m.\u001B[39mindex)\n",
      "File \u001B[0;32m/opt/anaconda3/lib/python3.12/site-packages/pandas/core/base.py:921\u001B[0m, in \u001B[0;36mIndexOpsMixin._map_values\u001B[0;34m(self, mapper, na_action, convert)\u001B[0m\n\u001B[1;32m    918\u001B[0m \u001B[38;5;28;01mif\u001B[39;00m \u001B[38;5;28misinstance\u001B[39m(arr, ExtensionArray):\n\u001B[1;32m    919\u001B[0m     \u001B[38;5;28;01mreturn\u001B[39;00m arr\u001B[38;5;241m.\u001B[39mmap(mapper, na_action\u001B[38;5;241m=\u001B[39mna_action)\n\u001B[0;32m--> 921\u001B[0m \u001B[38;5;28;01mreturn\u001B[39;00m algorithms\u001B[38;5;241m.\u001B[39mmap_array(arr, mapper, na_action\u001B[38;5;241m=\u001B[39mna_action, convert\u001B[38;5;241m=\u001B[39mconvert)\n",
      "File \u001B[0;32m/opt/anaconda3/lib/python3.12/site-packages/pandas/core/algorithms.py:1743\u001B[0m, in \u001B[0;36mmap_array\u001B[0;34m(arr, mapper, na_action, convert)\u001B[0m\n\u001B[1;32m   1741\u001B[0m values \u001B[38;5;241m=\u001B[39m arr\u001B[38;5;241m.\u001B[39mastype(\u001B[38;5;28mobject\u001B[39m, copy\u001B[38;5;241m=\u001B[39m\u001B[38;5;28;01mFalse\u001B[39;00m)\n\u001B[1;32m   1742\u001B[0m \u001B[38;5;28;01mif\u001B[39;00m na_action \u001B[38;5;129;01mis\u001B[39;00m \u001B[38;5;28;01mNone\u001B[39;00m:\n\u001B[0;32m-> 1743\u001B[0m     \u001B[38;5;28;01mreturn\u001B[39;00m lib\u001B[38;5;241m.\u001B[39mmap_infer(values, mapper, convert\u001B[38;5;241m=\u001B[39mconvert)\n\u001B[1;32m   1744\u001B[0m \u001B[38;5;28;01melse\u001B[39;00m:\n\u001B[1;32m   1745\u001B[0m     \u001B[38;5;28;01mreturn\u001B[39;00m lib\u001B[38;5;241m.\u001B[39mmap_infer_mask(\n\u001B[1;32m   1746\u001B[0m         values, mapper, mask\u001B[38;5;241m=\u001B[39misna(values)\u001B[38;5;241m.\u001B[39mview(np\u001B[38;5;241m.\u001B[39muint8), convert\u001B[38;5;241m=\u001B[39mconvert\n\u001B[1;32m   1747\u001B[0m     )\n",
      "File \u001B[0;32mlib.pyx:2972\u001B[0m, in \u001B[0;36mpandas._libs.lib.map_infer\u001B[0;34m()\u001B[0m\n",
      "Cell \u001B[0;32mIn[9], line 8\u001B[0m, in \u001B[0;36mget_sentiment_label\u001B[0;34m(quote_v)\u001B[0m\n\u001B[1;32m      7\u001B[0m \u001B[38;5;28;01mdef\u001B[39;00m \u001B[38;5;21mget_sentiment_label\u001B[39m(quote_v):\n\u001B[0;32m----> 8\u001B[0m     sentiment \u001B[38;5;241m=\u001B[39m sia\u001B[38;5;241m.\u001B[39mpolarity_scores(quote_v)\n\u001B[1;32m      9\u001B[0m     compound \u001B[38;5;241m=\u001B[39m sentiment[\u001B[38;5;124m'\u001B[39m\u001B[38;5;124mcompound\u001B[39m\u001B[38;5;124m'\u001B[39m]\n\u001B[1;32m     10\u001B[0m     \u001B[38;5;28;01mif\u001B[39;00m compound \u001B[38;5;241m>\u001B[39m\u001B[38;5;241m=\u001B[39m \u001B[38;5;241m0.05\u001B[39m:\n",
      "File \u001B[0;32m~/.local/lib/python3.12/site-packages/nltk/sentiment/vader.py:366\u001B[0m, in \u001B[0;36mSentimentIntensityAnalyzer.polarity_scores\u001B[0;34m(self, text)\u001B[0m\n\u001B[1;32m    355\u001B[0m \u001B[38;5;250m\u001B[39m\u001B[38;5;124;03m\"\"\"\u001B[39;00m\n\u001B[1;32m    356\u001B[0m \u001B[38;5;124;03mReturn a float for sentiment strength based on the input text.\u001B[39;00m\n\u001B[1;32m    357\u001B[0m \u001B[38;5;124;03mPositive values are positive valence, negative value are negative\u001B[39;00m\n\u001B[0;32m   (...)\u001B[0m\n\u001B[1;32m    363\u001B[0m \u001B[38;5;124;03m    matched as if it was a normal word in the sentence.\u001B[39;00m\n\u001B[1;32m    364\u001B[0m \u001B[38;5;124;03m\"\"\"\u001B[39;00m\n\u001B[1;32m    365\u001B[0m \u001B[38;5;66;03m# text, words_and_emoticons, is_cap_diff = self.preprocess(text)\u001B[39;00m\n\u001B[0;32m--> 366\u001B[0m sentitext \u001B[38;5;241m=\u001B[39m SentiText(\n\u001B[1;32m    367\u001B[0m     text, \u001B[38;5;28mself\u001B[39m\u001B[38;5;241m.\u001B[39mconstants\u001B[38;5;241m.\u001B[39mPUNC_LIST, \u001B[38;5;28mself\u001B[39m\u001B[38;5;241m.\u001B[39mconstants\u001B[38;5;241m.\u001B[39mREGEX_REMOVE_PUNCTUATION\n\u001B[1;32m    368\u001B[0m )\n\u001B[1;32m    369\u001B[0m sentiments \u001B[38;5;241m=\u001B[39m []\n\u001B[1;32m    370\u001B[0m words_and_emoticons \u001B[38;5;241m=\u001B[39m sentitext\u001B[38;5;241m.\u001B[39mwords_and_emoticons\n",
      "File \u001B[0;32m~/.local/lib/python3.12/site-packages/nltk/sentiment/vader.py:270\u001B[0m, in \u001B[0;36mSentiText.__init__\u001B[0;34m(self, text, punc_list, regex_remove_punctuation)\u001B[0m\n\u001B[1;32m    268\u001B[0m \u001B[38;5;28;01mdef\u001B[39;00m \u001B[38;5;21m__init__\u001B[39m(\u001B[38;5;28mself\u001B[39m, text, punc_list, regex_remove_punctuation):\n\u001B[1;32m    269\u001B[0m     \u001B[38;5;28;01mif\u001B[39;00m \u001B[38;5;129;01mnot\u001B[39;00m \u001B[38;5;28misinstance\u001B[39m(text, \u001B[38;5;28mstr\u001B[39m):\n\u001B[0;32m--> 270\u001B[0m         text \u001B[38;5;241m=\u001B[39m \u001B[38;5;28mstr\u001B[39m(text\u001B[38;5;241m.\u001B[39mencode(\u001B[38;5;124m\"\u001B[39m\u001B[38;5;124mutf-8\u001B[39m\u001B[38;5;124m\"\u001B[39m))\n\u001B[1;32m    271\u001B[0m     \u001B[38;5;28mself\u001B[39m\u001B[38;5;241m.\u001B[39mtext \u001B[38;5;241m=\u001B[39m text\n\u001B[1;32m    272\u001B[0m     \u001B[38;5;28mself\u001B[39m\u001B[38;5;241m.\u001B[39mPUNC_LIST \u001B[38;5;241m=\u001B[39m punc_list\n",
      "\u001B[0;31mAttributeError\u001B[0m: 'float' object has no attribute 'encode'"
     ]
    }
   ],
   "execution_count": 10
  },
  {
   "metadata": {
    "ExecuteTime": {
     "end_time": "2024-11-29T01:43:38.854954Z",
     "start_time": "2024-11-29T01:43:38.810806Z"
    }
   },
   "cell_type": "code",
   "source": [
    "# Ensure all quotes are strings\n",
    "df['quote'] = df['quote'].astype(str)"
   ],
   "id": "904453737ac50f94",
   "outputs": [],
   "execution_count": 16
  },
  {
   "metadata": {
    "ExecuteTime": {
     "end_time": "2024-11-29T01:43:48.189085Z",
     "start_time": "2024-11-29T01:43:48.173576Z"
    }
   },
   "cell_type": "code",
   "source": [
    "# Fill missing values with an empty string\n",
    "df['quote'] = df['quote'].fillna('')\n"
   ],
   "id": "3a781bd9859149",
   "outputs": [],
   "execution_count": 17
  },
  {
   "metadata": {
    "ExecuteTime": {
     "end_time": "2024-11-29T01:53:10.471595Z",
     "start_time": "2024-11-29T01:44:24.535103Z"
    }
   },
   "cell_type": "code",
   "source": [
    "# Load dataset into Dask\n",
    "# df = dd.read_csv('large_dataset.csv')  # Replace with your file path\n",
    "\n",
    "# Apply function to Dask DataFrame\n",
    "df['sentiment'] = df['quote'].map(get_sentiment_label, meta=('quote', 'str'))\n",
    "\n",
    "# Compute the final DataFrame\n",
    "df = df.compute()\n",
    "\n",
    "# Save results\n",
    "df.to_csv('processed_dataset.csv', index=False)"
   ],
   "id": "c5d175ee43f24033",
   "outputs": [
    {
     "ename": "AttributeError",
     "evalue": "'float' object has no attribute 'encode'",
     "output_type": "error",
     "traceback": [
      "\u001B[0;31m---------------------------------------------------------------------------\u001B[0m",
      "\u001B[0;31mAttributeError\u001B[0m                            Traceback (most recent call last)",
      "Cell \u001B[0;32mIn[18], line 8\u001B[0m\n\u001B[1;32m      5\u001B[0m df[\u001B[38;5;124m'\u001B[39m\u001B[38;5;124msentiment\u001B[39m\u001B[38;5;124m'\u001B[39m] \u001B[38;5;241m=\u001B[39m df[\u001B[38;5;124m'\u001B[39m\u001B[38;5;124mquote\u001B[39m\u001B[38;5;124m'\u001B[39m]\u001B[38;5;241m.\u001B[39mmap(get_sentiment_label, meta\u001B[38;5;241m=\u001B[39m(\u001B[38;5;124m'\u001B[39m\u001B[38;5;124mquote\u001B[39m\u001B[38;5;124m'\u001B[39m, \u001B[38;5;124m'\u001B[39m\u001B[38;5;124mstr\u001B[39m\u001B[38;5;124m'\u001B[39m))\n\u001B[1;32m      7\u001B[0m \u001B[38;5;66;03m# Compute the final DataFrame\u001B[39;00m\n\u001B[0;32m----> 8\u001B[0m df \u001B[38;5;241m=\u001B[39m df\u001B[38;5;241m.\u001B[39mcompute()\n\u001B[1;32m     10\u001B[0m \u001B[38;5;66;03m# Save results\u001B[39;00m\n\u001B[1;32m     11\u001B[0m df\u001B[38;5;241m.\u001B[39mto_csv(\u001B[38;5;124m'\u001B[39m\u001B[38;5;124mprocessed_dataset.csv\u001B[39m\u001B[38;5;124m'\u001B[39m, index\u001B[38;5;241m=\u001B[39m\u001B[38;5;28;01mFalse\u001B[39;00m)\n",
      "File \u001B[0;32m/opt/anaconda3/lib/python3.12/site-packages/dask_expr/_collection.py:476\u001B[0m, in \u001B[0;36mFrameBase.compute\u001B[0;34m(self, fuse, **kwargs)\u001B[0m\n\u001B[1;32m    474\u001B[0m     out \u001B[38;5;241m=\u001B[39m out\u001B[38;5;241m.\u001B[39mrepartition(npartitions\u001B[38;5;241m=\u001B[39m\u001B[38;5;241m1\u001B[39m)\n\u001B[1;32m    475\u001B[0m out \u001B[38;5;241m=\u001B[39m out\u001B[38;5;241m.\u001B[39moptimize(fuse\u001B[38;5;241m=\u001B[39mfuse)\n\u001B[0;32m--> 476\u001B[0m \u001B[38;5;28;01mreturn\u001B[39;00m DaskMethodsMixin\u001B[38;5;241m.\u001B[39mcompute(out, \u001B[38;5;241m*\u001B[39m\u001B[38;5;241m*\u001B[39mkwargs)\n",
      "File \u001B[0;32m/opt/anaconda3/lib/python3.12/site-packages/dask/base.py:375\u001B[0m, in \u001B[0;36mDaskMethodsMixin.compute\u001B[0;34m(self, **kwargs)\u001B[0m\n\u001B[1;32m    351\u001B[0m \u001B[38;5;28;01mdef\u001B[39;00m \u001B[38;5;21mcompute\u001B[39m(\u001B[38;5;28mself\u001B[39m, \u001B[38;5;241m*\u001B[39m\u001B[38;5;241m*\u001B[39mkwargs):\n\u001B[1;32m    352\u001B[0m \u001B[38;5;250m    \u001B[39m\u001B[38;5;124;03m\"\"\"Compute this dask collection\u001B[39;00m\n\u001B[1;32m    353\u001B[0m \n\u001B[1;32m    354\u001B[0m \u001B[38;5;124;03m    This turns a lazy Dask collection into its in-memory equivalent.\u001B[39;00m\n\u001B[0;32m   (...)\u001B[0m\n\u001B[1;32m    373\u001B[0m \u001B[38;5;124;03m    dask.compute\u001B[39;00m\n\u001B[1;32m    374\u001B[0m \u001B[38;5;124;03m    \"\"\"\u001B[39;00m\n\u001B[0;32m--> 375\u001B[0m     (result,) \u001B[38;5;241m=\u001B[39m compute(\u001B[38;5;28mself\u001B[39m, traverse\u001B[38;5;241m=\u001B[39m\u001B[38;5;28;01mFalse\u001B[39;00m, \u001B[38;5;241m*\u001B[39m\u001B[38;5;241m*\u001B[39mkwargs)\n\u001B[1;32m    376\u001B[0m     \u001B[38;5;28;01mreturn\u001B[39;00m result\n",
      "File \u001B[0;32m/opt/anaconda3/lib/python3.12/site-packages/dask/base.py:661\u001B[0m, in \u001B[0;36mcompute\u001B[0;34m(traverse, optimize_graph, scheduler, get, *args, **kwargs)\u001B[0m\n\u001B[1;32m    658\u001B[0m     postcomputes\u001B[38;5;241m.\u001B[39mappend(x\u001B[38;5;241m.\u001B[39m__dask_postcompute__())\n\u001B[1;32m    660\u001B[0m \u001B[38;5;28;01mwith\u001B[39;00m shorten_traceback():\n\u001B[0;32m--> 661\u001B[0m     results \u001B[38;5;241m=\u001B[39m schedule(dsk, keys, \u001B[38;5;241m*\u001B[39m\u001B[38;5;241m*\u001B[39mkwargs)\n\u001B[1;32m    663\u001B[0m \u001B[38;5;28;01mreturn\u001B[39;00m repack([f(r, \u001B[38;5;241m*\u001B[39ma) \u001B[38;5;28;01mfor\u001B[39;00m r, (f, a) \u001B[38;5;129;01min\u001B[39;00m \u001B[38;5;28mzip\u001B[39m(results, postcomputes)])\n",
      "File \u001B[0;32m/opt/anaconda3/lib/python3.12/site-packages/dask_expr/_expr.py:3723\u001B[0m, in \u001B[0;36mFused._execute_task\u001B[0;34m(graph, name, *deps)\u001B[0m\n\u001B[1;32m   3721\u001B[0m \u001B[38;5;28;01mfor\u001B[39;00m i, dep \u001B[38;5;129;01min\u001B[39;00m \u001B[38;5;28menumerate\u001B[39m(deps):\n\u001B[1;32m   3722\u001B[0m     graph[\u001B[38;5;124m\"\u001B[39m\u001B[38;5;124m_\u001B[39m\u001B[38;5;124m\"\u001B[39m \u001B[38;5;241m+\u001B[39m \u001B[38;5;28mstr\u001B[39m(i)] \u001B[38;5;241m=\u001B[39m dep\n\u001B[0;32m-> 3723\u001B[0m \u001B[38;5;28;01mreturn\u001B[39;00m dask\u001B[38;5;241m.\u001B[39mcore\u001B[38;5;241m.\u001B[39mget(graph, name)\n",
      "File \u001B[0;32mlib.pyx:2972\u001B[0m, in \u001B[0;36mpandas._libs.lib.map_infer\u001B[0;34m()\u001B[0m\n",
      "Cell \u001B[0;32mIn[9], line 8\u001B[0m, in \u001B[0;36mget_sentiment_label\u001B[0;34m(quote_v)\u001B[0m\n\u001B[1;32m      7\u001B[0m \u001B[38;5;28;01mdef\u001B[39;00m \u001B[38;5;21mget_sentiment_label\u001B[39m(quote_v):\n\u001B[0;32m----> 8\u001B[0m     sentiment \u001B[38;5;241m=\u001B[39m sia\u001B[38;5;241m.\u001B[39mpolarity_scores(quote_v)\n\u001B[1;32m      9\u001B[0m     compound \u001B[38;5;241m=\u001B[39m sentiment[\u001B[38;5;124m'\u001B[39m\u001B[38;5;124mcompound\u001B[39m\u001B[38;5;124m'\u001B[39m]\n\u001B[1;32m     10\u001B[0m     \u001B[38;5;28;01mif\u001B[39;00m compound \u001B[38;5;241m>\u001B[39m\u001B[38;5;241m=\u001B[39m \u001B[38;5;241m0.05\u001B[39m:\n",
      "File \u001B[0;32m~/.local/lib/python3.12/site-packages/nltk/sentiment/vader.py:366\u001B[0m, in \u001B[0;36mSentimentIntensityAnalyzer.polarity_scores\u001B[0;34m(self, text)\u001B[0m\n\u001B[1;32m    355\u001B[0m \u001B[38;5;250m\u001B[39m\u001B[38;5;124;03m\"\"\"\u001B[39;00m\n\u001B[1;32m    356\u001B[0m \u001B[38;5;124;03mReturn a float for sentiment strength based on the input text.\u001B[39;00m\n\u001B[1;32m    357\u001B[0m \u001B[38;5;124;03mPositive values are positive valence, negative value are negative\u001B[39;00m\n\u001B[0;32m   (...)\u001B[0m\n\u001B[1;32m    363\u001B[0m \u001B[38;5;124;03m    matched as if it was a normal word in the sentence.\u001B[39;00m\n\u001B[1;32m    364\u001B[0m \u001B[38;5;124;03m\"\"\"\u001B[39;00m\n\u001B[1;32m    365\u001B[0m \u001B[38;5;66;03m# text, words_and_emoticons, is_cap_diff = self.preprocess(text)\u001B[39;00m\n\u001B[0;32m--> 366\u001B[0m sentitext \u001B[38;5;241m=\u001B[39m SentiText(\n\u001B[1;32m    367\u001B[0m     text, \u001B[38;5;28mself\u001B[39m\u001B[38;5;241m.\u001B[39mconstants\u001B[38;5;241m.\u001B[39mPUNC_LIST, \u001B[38;5;28mself\u001B[39m\u001B[38;5;241m.\u001B[39mconstants\u001B[38;5;241m.\u001B[39mREGEX_REMOVE_PUNCTUATION\n\u001B[1;32m    368\u001B[0m )\n\u001B[1;32m    369\u001B[0m sentiments \u001B[38;5;241m=\u001B[39m []\n\u001B[1;32m    370\u001B[0m words_and_emoticons \u001B[38;5;241m=\u001B[39m sentitext\u001B[38;5;241m.\u001B[39mwords_and_emoticons\n",
      "File \u001B[0;32m~/.local/lib/python3.12/site-packages/nltk/sentiment/vader.py:270\u001B[0m, in \u001B[0;36mSentiText.__init__\u001B[0;34m(self, text, punc_list, regex_remove_punctuation)\u001B[0m\n\u001B[1;32m    268\u001B[0m \u001B[38;5;28;01mdef\u001B[39;00m \u001B[38;5;21m__init__\u001B[39m(\u001B[38;5;28mself\u001B[39m, text, punc_list, regex_remove_punctuation):\n\u001B[1;32m    269\u001B[0m     \u001B[38;5;28;01mif\u001B[39;00m \u001B[38;5;129;01mnot\u001B[39;00m \u001B[38;5;28misinstance\u001B[39m(text, \u001B[38;5;28mstr\u001B[39m):\n\u001B[0;32m--> 270\u001B[0m         text \u001B[38;5;241m=\u001B[39m \u001B[38;5;28mstr\u001B[39m(text\u001B[38;5;241m.\u001B[39mencode(\u001B[38;5;124m\"\u001B[39m\u001B[38;5;124mutf-8\u001B[39m\u001B[38;5;124m\"\u001B[39m))\n\u001B[1;32m    271\u001B[0m     \u001B[38;5;28mself\u001B[39m\u001B[38;5;241m.\u001B[39mtext \u001B[38;5;241m=\u001B[39m text\n\u001B[1;32m    272\u001B[0m     \u001B[38;5;28mself\u001B[39m\u001B[38;5;241m.\u001B[39mPUNC_LIST \u001B[38;5;241m=\u001B[39m punc_list\n",
      "\u001B[0;31mAttributeError\u001B[0m: 'float' object has no attribute 'encode'"
     ]
    }
   ],
   "execution_count": 18
  },
  {
   "metadata": {
    "ExecuteTime": {
     "end_time": "2024-11-29T10:20:39.712666Z",
     "start_time": "2024-11-29T10:20:06.813692Z"
    }
   },
   "cell_type": "code",
   "source": [
    "import pandas as pd\n",
    "\n",
    "\n",
    "# Initialize the Vader Sentiment Analyzer\n",
    "sia = SentimentIntensityAnalyzer()\n",
    "\n",
    "# Function to get sentiment labels\n",
    "def get_sentiment_label(quote_v):\n",
    "    if not isinstance(quote_v, str):  # Handle non-string inputs\n",
    "        return \"Neutral\"\n",
    "    sentiment = sia.polarity_scores(quote_v)\n",
    "    compound = sentiment['compound']\n",
    "    if compound >= 0.05:\n",
    "        return \"Positive\"\n",
    "    elif compound <= -0.05:\n",
    "        return \"Negative\"\n",
    "    else:\n",
    "        return \"Neutral\"\n",
    "\n",
    "# Load a sample of 30k rows from the dataset\n",
    "df = pd.read_csv('data/quotes.csv', nrows=50000)  # Only process the first 30,000 rows\n",
    "\n",
    "# Ensure the column with quotes is string and handle missing values\n",
    "df['quote'] = df['quote'].fillna('').astype(str)\n",
    "\n",
    "# Apply the sentiment function to add a sentiment column\n",
    "df['sentiment'] = df['quote'].apply(get_sentiment_label)\n",
    "\n",
    "# Balance the dataset by selecting an equal number of each sentiment\n",
    "sample_size = 20000  # Number of rows to sample per sentiment\n",
    "positive = df[df['sentiment'] == 'Positive'].sample(n=sample_size, random_state=42, replace=True)\n",
    "negative = df[df['sentiment'] == 'Negative'].sample(n=sample_size, random_state=42, replace=True)\n",
    "neutral = df[df['sentiment'] == 'Neutral'].sample(n=sample_size, random_state=42, replace=True)\n",
    "\n",
    "# Combine the sampled data into one DataFrame\n",
    "balanced_data = pd.concat([positive, negative, neutral])\n",
    "\n",
    "# Shuffle the data\n",
    "balanced_data = balanced_data.sample(frac=1, random_state=42)\n",
    "\n",
    "# Export the balanced dataset to a CSV file\n",
    "balanced_data.to_csv('balanced_quotes.csv', index=False)\n",
    "\n",
    "print(\"Balanced dataset with an equal number of sentiments has been saved to 'balanced_quotes.csv'.\")\n"
   ],
   "id": "775ba2d2c00b113b",
   "outputs": [
    {
     "name": "stdout",
     "output_type": "stream",
     "text": [
      "Balanced dataset with an equal number of sentiments has been saved to 'balanced_quotes.csv'.\n"
     ]
    }
   ],
   "execution_count": 20
  },
  {
   "metadata": {
    "ExecuteTime": {
     "end_time": "2024-11-29T10:22:30.135162Z",
     "start_time": "2024-11-29T10:22:28.679597Z"
    }
   },
   "cell_type": "code",
   "source": [
    "\n",
    "balanced_quotes = pd.read_csv('balanced_quotes.csv')\n",
    "\n",
    "balanced_quotes.info()"
   ],
   "id": "5d549edcd1d67b70",
   "outputs": [
    {
     "name": "stdout",
     "output_type": "stream",
     "text": [
      "<class 'pandas.core.frame.DataFrame'>\n",
      "RangeIndex: 60000 entries, 0 to 59999\n",
      "Data columns (total 4 columns):\n",
      " #   Column     Non-Null Count  Dtype \n",
      "---  ------     --------------  ----- \n",
      " 0   quote      60000 non-null  object\n",
      " 1   author     59982 non-null  object\n",
      " 2   category   59993 non-null  object\n",
      " 3   sentiment  60000 non-null  object\n",
      "dtypes: object(4)\n",
      "memory usage: 1.8+ MB\n"
     ]
    }
   ],
   "execution_count": 21
  },
  {
   "metadata": {
    "ExecuteTime": {
     "end_time": "2024-11-29T10:24:16.835566Z",
     "start_time": "2024-11-29T10:24:15.638877Z"
    }
   },
   "cell_type": "code",
   "source": "balanced_quotes.describe()",
   "id": "3b80c446d8f384f4",
   "outputs": [
    {
     "data": {
      "text/plain": [
       "                                                    quote           author  \\\n",
       "count                                               60000            59982   \n",
       "unique                                              31828            13775   \n",
       "top     A story is a letter that the author writes to ...  Debasish Mridha   \n",
       "freq                                                   10             1159   \n",
       "\n",
       "       category sentiment  \n",
       "count     59993     60000  \n",
       "unique    22928         3  \n",
       "top     writing  Positive  \n",
       "freq       1008     20000  "
      ],
      "text/html": [
       "<div>\n",
       "<style scoped>\n",
       "    .dataframe tbody tr th:only-of-type {\n",
       "        vertical-align: middle;\n",
       "    }\n",
       "\n",
       "    .dataframe tbody tr th {\n",
       "        vertical-align: top;\n",
       "    }\n",
       "\n",
       "    .dataframe thead th {\n",
       "        text-align: right;\n",
       "    }\n",
       "</style>\n",
       "<table border=\"1\" class=\"dataframe\">\n",
       "  <thead>\n",
       "    <tr style=\"text-align: right;\">\n",
       "      <th></th>\n",
       "      <th>quote</th>\n",
       "      <th>author</th>\n",
       "      <th>category</th>\n",
       "      <th>sentiment</th>\n",
       "    </tr>\n",
       "  </thead>\n",
       "  <tbody>\n",
       "    <tr>\n",
       "      <th>count</th>\n",
       "      <td>60000</td>\n",
       "      <td>59982</td>\n",
       "      <td>59993</td>\n",
       "      <td>60000</td>\n",
       "    </tr>\n",
       "    <tr>\n",
       "      <th>unique</th>\n",
       "      <td>31828</td>\n",
       "      <td>13775</td>\n",
       "      <td>22928</td>\n",
       "      <td>3</td>\n",
       "    </tr>\n",
       "    <tr>\n",
       "      <th>top</th>\n",
       "      <td>A story is a letter that the author writes to ...</td>\n",
       "      <td>Debasish Mridha</td>\n",
       "      <td>writing</td>\n",
       "      <td>Positive</td>\n",
       "    </tr>\n",
       "    <tr>\n",
       "      <th>freq</th>\n",
       "      <td>10</td>\n",
       "      <td>1159</td>\n",
       "      <td>1008</td>\n",
       "      <td>20000</td>\n",
       "    </tr>\n",
       "  </tbody>\n",
       "</table>\n",
       "</div>"
      ]
     },
     "execution_count": 22,
     "metadata": {},
     "output_type": "execute_result"
    }
   ],
   "execution_count": 22
  },
  {
   "metadata": {
    "ExecuteTime": {
     "end_time": "2024-11-29T10:48:55.022052Z",
     "start_time": "2024-11-29T10:48:52.012773Z"
    }
   },
   "cell_type": "code",
   "source": [
    "\n",
    "df = pd.read_csv('data/quotes.csv', nrows=60000)  # Only process the first 60,000 rows\n",
    "# Shuffle the data\n",
    "balanced_data = balanced_data.sample(frac=1, random_state=42)\n",
    "\n",
    "# Export the balanced dataset to a CSV file\n",
    "balanced_data.to_csv('data/balanced_quotes.csv', index=False)"
   ],
   "id": "de022b0bbf08ceeb",
   "outputs": [],
   "execution_count": 23
  },
  {
   "metadata": {},
   "cell_type": "code",
   "outputs": [],
   "execution_count": null,
   "source": "",
   "id": "72ec5c58da659024"
  }
 ],
 "metadata": {
  "kernelspec": {
   "display_name": "Python 3",
   "language": "python",
   "name": "python3"
  },
  "language_info": {
   "codemirror_mode": {
    "name": "ipython",
    "version": 2
   },
   "file_extension": ".py",
   "mimetype": "text/x-python",
   "name": "python",
   "nbconvert_exporter": "python",
   "pygments_lexer": "ipython2",
   "version": "2.7.6"
  }
 },
 "nbformat": 4,
 "nbformat_minor": 5
}
