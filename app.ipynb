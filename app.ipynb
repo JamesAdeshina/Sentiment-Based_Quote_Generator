{
 "cells": [
  {
   "cell_type": "code",
   "id": "initial_id",
   "metadata": {
    "collapsed": true,
    "ExecuteTime": {
     "end_time": "2024-11-27T23:07:48.116495Z",
     "start_time": "2024-11-27T23:07:23.347615Z"
    }
   },
   "source": [
    "# import nltk\n",
    "# nltk.download('vader_lexicon')\n",
    "# import pandas as pd"
   ],
   "outputs": [
    {
     "name": "stderr",
     "output_type": "stream",
     "text": [
      "[nltk_data] Downloading package vader_lexicon to\n",
      "[nltk_data]     /Users/apple2015/nltk_data...\n"
     ]
    }
   ],
   "execution_count": 8
  },
  {
   "metadata": {
    "ExecuteTime": {
     "end_time": "2024-11-28T23:13:44.679290Z",
     "start_time": "2024-11-28T23:13:44.414006Z"
    }
   },
   "cell_type": "code",
   "source": [
    "#load the quotes stash\n",
    "quotes = pd.read_csv('data/quote_stash.csv')\n",
    "# quotes = quotes[['quote','author']]\n",
    "print(quotes.shape)\n",
    "\n",
    "quotes.head()"
   ],
   "id": "1a87415e29663495",
   "outputs": [
    {
     "name": "stdout",
     "output_type": "stream",
     "text": [
      "(108, 2)\n"
     ]
    },
    {
     "data": {
      "text/plain": [
       "                                               quote             author\n",
       "0        Pain is inevitable, but misery is optional.         Tim Hansel\n",
       "1  To avoid criticism, do nothing, say nothing, b...     Elbert Hubbard\n",
       "2  Believe and act as if it were impossible to fail.  Charles Kettering\n",
       "3  Never get out of the boat. Absolutely goddamn ...    Captain Willard\n",
       "4  Nobody can make you feel inferior without your...  Eleanor Roosevelt"
      ],
      "text/html": [
       "<div>\n",
       "<style scoped>\n",
       "    .dataframe tbody tr th:only-of-type {\n",
       "        vertical-align: middle;\n",
       "    }\n",
       "\n",
       "    .dataframe tbody tr th {\n",
       "        vertical-align: top;\n",
       "    }\n",
       "\n",
       "    .dataframe thead th {\n",
       "        text-align: right;\n",
       "    }\n",
       "</style>\n",
       "<table border=\"1\" class=\"dataframe\">\n",
       "  <thead>\n",
       "    <tr style=\"text-align: right;\">\n",
       "      <th></th>\n",
       "      <th>quote</th>\n",
       "      <th>author</th>\n",
       "    </tr>\n",
       "  </thead>\n",
       "  <tbody>\n",
       "    <tr>\n",
       "      <th>0</th>\n",
       "      <td>Pain is inevitable, but misery is optional.</td>\n",
       "      <td>Tim Hansel</td>\n",
       "    </tr>\n",
       "    <tr>\n",
       "      <th>1</th>\n",
       "      <td>To avoid criticism, do nothing, say nothing, b...</td>\n",
       "      <td>Elbert Hubbard</td>\n",
       "    </tr>\n",
       "    <tr>\n",
       "      <th>2</th>\n",
       "      <td>Believe and act as if it were impossible to fail.</td>\n",
       "      <td>Charles Kettering</td>\n",
       "    </tr>\n",
       "    <tr>\n",
       "      <th>3</th>\n",
       "      <td>Never get out of the boat. Absolutely goddamn ...</td>\n",
       "      <td>Captain Willard</td>\n",
       "    </tr>\n",
       "    <tr>\n",
       "      <th>4</th>\n",
       "      <td>Nobody can make you feel inferior without your...</td>\n",
       "      <td>Eleanor Roosevelt</td>\n",
       "    </tr>\n",
       "  </tbody>\n",
       "</table>\n",
       "</div>"
      ]
     },
     "execution_count": 21,
     "metadata": {},
     "output_type": "execute_result"
    }
   ],
   "execution_count": 21
  },
  {
   "metadata": {
    "ExecuteTime": {
     "end_time": "2024-11-27T22:22:03.916416Z",
     "start_time": "2024-11-27T22:22:03.836171Z"
    }
   },
   "cell_type": "code",
   "outputs": [
    {
     "data": {
      "text/plain": [
       "                                               quote             author\n",
       "0        Pain is inevitable, but misery is optional.         Tim Hansel\n",
       "1  To avoid criticism, do nothing, say nothing, b...     Elbert Hubbard\n",
       "2  Believe and act as if it were impossible to fail.  Charles Kettering\n",
       "3  Never get out of the boat. Absolutely goddamn ...    Captain Willard\n",
       "4  Nobody can make you feel inferior without your...  Eleanor Roosevelt"
      ],
      "text/html": [
       "<div>\n",
       "<style scoped>\n",
       "    .dataframe tbody tr th:only-of-type {\n",
       "        vertical-align: middle;\n",
       "    }\n",
       "\n",
       "    .dataframe tbody tr th {\n",
       "        vertical-align: top;\n",
       "    }\n",
       "\n",
       "    .dataframe thead th {\n",
       "        text-align: right;\n",
       "    }\n",
       "</style>\n",
       "<table border=\"1\" class=\"dataframe\">\n",
       "  <thead>\n",
       "    <tr style=\"text-align: right;\">\n",
       "      <th></th>\n",
       "      <th>quote</th>\n",
       "      <th>author</th>\n",
       "    </tr>\n",
       "  </thead>\n",
       "  <tbody>\n",
       "    <tr>\n",
       "      <th>0</th>\n",
       "      <td>Pain is inevitable, but misery is optional.</td>\n",
       "      <td>Tim Hansel</td>\n",
       "    </tr>\n",
       "    <tr>\n",
       "      <th>1</th>\n",
       "      <td>To avoid criticism, do nothing, say nothing, b...</td>\n",
       "      <td>Elbert Hubbard</td>\n",
       "    </tr>\n",
       "    <tr>\n",
       "      <th>2</th>\n",
       "      <td>Believe and act as if it were impossible to fail.</td>\n",
       "      <td>Charles Kettering</td>\n",
       "    </tr>\n",
       "    <tr>\n",
       "      <th>3</th>\n",
       "      <td>Never get out of the boat. Absolutely goddamn ...</td>\n",
       "      <td>Captain Willard</td>\n",
       "    </tr>\n",
       "    <tr>\n",
       "      <th>4</th>\n",
       "      <td>Nobody can make you feel inferior without your...</td>\n",
       "      <td>Eleanor Roosevelt</td>\n",
       "    </tr>\n",
       "  </tbody>\n",
       "</table>\n",
       "</div>"
      ]
     },
     "execution_count": 2,
     "metadata": {},
     "output_type": "execute_result"
    }
   ],
   "execution_count": 2,
   "source": "quotes.head()",
   "id": "67edbde5fe182a80"
  },
  {
   "metadata": {
    "ExecuteTime": {
     "end_time": "2024-11-27T22:30:58.333770Z",
     "start_time": "2024-11-27T22:30:58.247103Z"
    }
   },
   "cell_type": "code",
   "source": "quotes = quotes.drop_duplicates(subset='author', keep='last')",
   "id": "d50acc07761be628",
   "outputs": [],
   "execution_count": 5
  },
  {
   "metadata": {
    "ExecuteTime": {
     "end_time": "2024-11-27T22:31:19.685372Z",
     "start_time": "2024-11-27T22:31:19.664677Z"
    }
   },
   "cell_type": "code",
   "source": "quotes.head()",
   "id": "a8592a4881255a24",
   "outputs": [
    {
     "data": {
      "text/plain": [
       "                                               quote             author\n",
       "0        Pain is inevitable, but misery is optional.         Tim Hansel\n",
       "1  To avoid criticism, do nothing, say nothing, b...     Elbert Hubbard\n",
       "2  Believe and act as if it were impossible to fail.  Charles Kettering\n",
       "3  Never get out of the boat. Absolutely goddamn ...    Captain Willard\n",
       "4  Nobody can make you feel inferior without your...  Eleanor Roosevelt"
      ],
      "text/html": [
       "<div>\n",
       "<style scoped>\n",
       "    .dataframe tbody tr th:only-of-type {\n",
       "        vertical-align: middle;\n",
       "    }\n",
       "\n",
       "    .dataframe tbody tr th {\n",
       "        vertical-align: top;\n",
       "    }\n",
       "\n",
       "    .dataframe thead th {\n",
       "        text-align: right;\n",
       "    }\n",
       "</style>\n",
       "<table border=\"1\" class=\"dataframe\">\n",
       "  <thead>\n",
       "    <tr style=\"text-align: right;\">\n",
       "      <th></th>\n",
       "      <th>quote</th>\n",
       "      <th>author</th>\n",
       "    </tr>\n",
       "  </thead>\n",
       "  <tbody>\n",
       "    <tr>\n",
       "      <th>0</th>\n",
       "      <td>Pain is inevitable, but misery is optional.</td>\n",
       "      <td>Tim Hansel</td>\n",
       "    </tr>\n",
       "    <tr>\n",
       "      <th>1</th>\n",
       "      <td>To avoid criticism, do nothing, say nothing, b...</td>\n",
       "      <td>Elbert Hubbard</td>\n",
       "    </tr>\n",
       "    <tr>\n",
       "      <th>2</th>\n",
       "      <td>Believe and act as if it were impossible to fail.</td>\n",
       "      <td>Charles Kettering</td>\n",
       "    </tr>\n",
       "    <tr>\n",
       "      <th>3</th>\n",
       "      <td>Never get out of the boat. Absolutely goddamn ...</td>\n",
       "      <td>Captain Willard</td>\n",
       "    </tr>\n",
       "    <tr>\n",
       "      <th>4</th>\n",
       "      <td>Nobody can make you feel inferior without your...</td>\n",
       "      <td>Eleanor Roosevelt</td>\n",
       "    </tr>\n",
       "  </tbody>\n",
       "</table>\n",
       "</div>"
      ]
     },
     "execution_count": 6,
     "metadata": {},
     "output_type": "execute_result"
    }
   ],
   "execution_count": 6
  },
  {
   "metadata": {
    "ExecuteTime": {
     "end_time": "2024-11-28T23:05:24.471164Z",
     "start_time": "2024-11-28T23:05:23.637886Z"
    }
   },
   "cell_type": "code",
   "source": [
    "from nltk.sentiment.vader import SentimentIntensityAnalyzer\n",
    "\n",
    "sia =  SentimentIntensityAnalyzer()"
   ],
   "id": "689b30100b0bc17c",
   "outputs": [],
   "execution_count": 11
  },
  {
   "metadata": {
    "ExecuteTime": {
     "end_time": "2024-11-28T23:05:26.303157Z",
     "start_time": "2024-11-28T23:05:26.263569Z"
    }
   },
   "cell_type": "code",
   "source": [
    "# Example\n",
    "quote = \"The only limit to our realization of tomorrow is our doubts of today.\"\n",
    "\n",
    "sentiment = sia.polarity_scores(quote)"
   ],
   "id": "7d00ddd72098a979",
   "outputs": [],
   "execution_count": 12
  },
  {
   "metadata": {
    "ExecuteTime": {
     "end_time": "2024-11-28T23:05:28.168328Z",
     "start_time": "2024-11-28T23:05:28.155205Z"
    }
   },
   "cell_type": "code",
   "source": [
    "print(sentiment)\n",
    "# Output: {'neg': 0.0, 'neu': 0.601, 'pos': 0.399, 'compound': 0.4404}\n"
   ],
   "id": "65ff10daa8b699a6",
   "outputs": [
    {
     "name": "stdout",
     "output_type": "stream",
     "text": [
      "{'neg': 0.155, 'neu': 0.845, 'pos': 0.0, 'compound': -0.296}\n"
     ]
    }
   ],
   "execution_count": 13
  },
  {
   "metadata": {
    "ExecuteTime": {
     "end_time": "2024-11-28T23:16:00.330138Z",
     "start_time": "2024-11-28T23:16:00.304590Z"
    }
   },
   "cell_type": "code",
   "source": [
    "#function to get sentiment labels\n",
    "def get_sentiment_label(quote_v):\n",
    "    sentiment = sia.polarity_scores(quote_v)\n",
    "    compound = sentiment['compound']\n",
    "    if compound >= 0.05:\n",
    "        return \"Positive\"\n",
    "    elif compound <= -0.05:\n",
    "        return \"Negative\"\n",
    "    else:\n",
    "        return \"Neutral\""
   ],
   "id": "2c5be21ea0034865",
   "outputs": [],
   "execution_count": 24
  },
  {
   "metadata": {
    "ExecuteTime": {
     "end_time": "2024-11-28T23:18:34.228697Z",
     "start_time": "2024-11-28T23:18:34.202509Z"
    }
   },
   "cell_type": "code",
   "source": [
    "data = quotes['quote']\n",
    "df = pd.DataFrame(data)\n",
    "\n",
    "df"
   ],
   "id": "d8e1889bc102b4f0",
   "outputs": [
    {
     "data": {
      "text/plain": [
       "                                                 quote\n",
       "0          Pain is inevitable, but misery is optional.\n",
       "1    To avoid criticism, do nothing, say nothing, b...\n",
       "2    Believe and act as if it were impossible to fail.\n",
       "3    Never get out of the boat. Absolutely goddamn ...\n",
       "4    Nobody can make you feel inferior without your...\n",
       "..                                                 ...\n",
       "103   Don’t wish it were easier, wish you were better.\n",
       "104  Out yonder there was this huge world, which ex...\n",
       "105  Life is beautiful, so long as it is consuming ...\n",
       "106  I offer you peace. I offer you love. I offer y...\n",
       "107  When we are mindful, deeply in touch with the ...\n",
       "\n",
       "[108 rows x 1 columns]"
      ],
      "text/html": [
       "<div>\n",
       "<style scoped>\n",
       "    .dataframe tbody tr th:only-of-type {\n",
       "        vertical-align: middle;\n",
       "    }\n",
       "\n",
       "    .dataframe tbody tr th {\n",
       "        vertical-align: top;\n",
       "    }\n",
       "\n",
       "    .dataframe thead th {\n",
       "        text-align: right;\n",
       "    }\n",
       "</style>\n",
       "<table border=\"1\" class=\"dataframe\">\n",
       "  <thead>\n",
       "    <tr style=\"text-align: right;\">\n",
       "      <th></th>\n",
       "      <th>quote</th>\n",
       "    </tr>\n",
       "  </thead>\n",
       "  <tbody>\n",
       "    <tr>\n",
       "      <th>0</th>\n",
       "      <td>Pain is inevitable, but misery is optional.</td>\n",
       "    </tr>\n",
       "    <tr>\n",
       "      <th>1</th>\n",
       "      <td>To avoid criticism, do nothing, say nothing, b...</td>\n",
       "    </tr>\n",
       "    <tr>\n",
       "      <th>2</th>\n",
       "      <td>Believe and act as if it were impossible to fail.</td>\n",
       "    </tr>\n",
       "    <tr>\n",
       "      <th>3</th>\n",
       "      <td>Never get out of the boat. Absolutely goddamn ...</td>\n",
       "    </tr>\n",
       "    <tr>\n",
       "      <th>4</th>\n",
       "      <td>Nobody can make you feel inferior without your...</td>\n",
       "    </tr>\n",
       "    <tr>\n",
       "      <th>...</th>\n",
       "      <td>...</td>\n",
       "    </tr>\n",
       "    <tr>\n",
       "      <th>103</th>\n",
       "      <td>Don’t wish it were easier, wish you were better.</td>\n",
       "    </tr>\n",
       "    <tr>\n",
       "      <th>104</th>\n",
       "      <td>Out yonder there was this huge world, which ex...</td>\n",
       "    </tr>\n",
       "    <tr>\n",
       "      <th>105</th>\n",
       "      <td>Life is beautiful, so long as it is consuming ...</td>\n",
       "    </tr>\n",
       "    <tr>\n",
       "      <th>106</th>\n",
       "      <td>I offer you peace. I offer you love. I offer y...</td>\n",
       "    </tr>\n",
       "    <tr>\n",
       "      <th>107</th>\n",
       "      <td>When we are mindful, deeply in touch with the ...</td>\n",
       "    </tr>\n",
       "  </tbody>\n",
       "</table>\n",
       "<p>108 rows × 1 columns</p>\n",
       "</div>"
      ]
     },
     "execution_count": 30,
     "metadata": {},
     "output_type": "execute_result"
    }
   ],
   "execution_count": 30
  },
  {
   "metadata": {
    "ExecuteTime": {
     "end_time": "2024-11-28T23:18:52.008176Z",
     "start_time": "2024-11-28T23:18:51.925528Z"
    }
   },
   "cell_type": "code",
   "source": "df['Sentiment'] = df['quote'].apply(get_sentiment_label)",
   "id": "8351a35efa707577",
   "outputs": [],
   "execution_count": 31
  },
  {
   "metadata": {
    "ExecuteTime": {
     "end_time": "2024-11-28T23:20:12.924458Z",
     "start_time": "2024-11-28T23:20:12.907629Z"
    }
   },
   "cell_type": "code",
   "source": "print(df)",
   "id": "cb5f6fd0b6708aca",
   "outputs": [
    {
     "name": "stdout",
     "output_type": "stream",
     "text": [
      "                                                 quote Sentiment\n",
      "0          Pain is inevitable, but misery is optional.  Negative\n",
      "1    To avoid criticism, do nothing, say nothing, b...  Negative\n",
      "2    Believe and act as if it were impossible to fail.  Negative\n",
      "3    Never get out of the boat. Absolutely goddamn ...  Negative\n",
      "4    Nobody can make you feel inferior without your...  Negative\n",
      "..                                                 ...       ...\n",
      "103   Don’t wish it were easier, wish you were better.  Positive\n",
      "104  Out yonder there was this huge world, which ex...  Positive\n",
      "105  Life is beautiful, so long as it is consuming ...  Positive\n",
      "106  I offer you peace. I offer you love. I offer y...  Positive\n",
      "107  When we are mindful, deeply in touch with the ...  Positive\n",
      "\n",
      "[108 rows x 2 columns]\n"
     ]
    }
   ],
   "execution_count": 35
  },
  {
   "metadata": {
    "ExecuteTime": {
     "end_time": "2024-11-28T23:25:27.465983Z",
     "start_time": "2024-11-28T23:25:27.387581Z"
    }
   },
   "cell_type": "code",
   "source": "df['author'] = quotes['author']",
   "id": "3f031b9ce0f3a546",
   "outputs": [],
   "execution_count": 36
  },
  {
   "metadata": {
    "ExecuteTime": {
     "end_time": "2024-11-28T23:25:33.459564Z",
     "start_time": "2024-11-28T23:25:33.396595Z"
    }
   },
   "cell_type": "code",
   "source": "df",
   "id": "88dbace1328cb1ae",
   "outputs": [
    {
     "data": {
      "text/plain": [
       "                                                 quote Sentiment  \\\n",
       "0          Pain is inevitable, but misery is optional.  Negative   \n",
       "1    To avoid criticism, do nothing, say nothing, b...  Negative   \n",
       "2    Believe and act as if it were impossible to fail.  Negative   \n",
       "3    Never get out of the boat. Absolutely goddamn ...  Negative   \n",
       "4    Nobody can make you feel inferior without your...  Negative   \n",
       "..                                                 ...       ...   \n",
       "103   Don’t wish it were easier, wish you were better.  Positive   \n",
       "104  Out yonder there was this huge world, which ex...  Positive   \n",
       "105  Life is beautiful, so long as it is consuming ...  Positive   \n",
       "106  I offer you peace. I offer you love. I offer y...  Positive   \n",
       "107  When we are mindful, deeply in touch with the ...  Positive   \n",
       "\n",
       "                author  \n",
       "0           Tim Hansel  \n",
       "1       Elbert Hubbard  \n",
       "2    Charles Kettering  \n",
       "3      Captain Willard  \n",
       "4    Eleanor Roosevelt  \n",
       "..                 ...  \n",
       "103           Jim Rohn  \n",
       "104    Albert Einstein  \n",
       "105      D.H. Lawrence  \n",
       "106     Mahatma Gandhi  \n",
       "107    Thich Nhat Hanh  \n",
       "\n",
       "[108 rows x 3 columns]"
      ],
      "text/html": [
       "<div>\n",
       "<style scoped>\n",
       "    .dataframe tbody tr th:only-of-type {\n",
       "        vertical-align: middle;\n",
       "    }\n",
       "\n",
       "    .dataframe tbody tr th {\n",
       "        vertical-align: top;\n",
       "    }\n",
       "\n",
       "    .dataframe thead th {\n",
       "        text-align: right;\n",
       "    }\n",
       "</style>\n",
       "<table border=\"1\" class=\"dataframe\">\n",
       "  <thead>\n",
       "    <tr style=\"text-align: right;\">\n",
       "      <th></th>\n",
       "      <th>quote</th>\n",
       "      <th>Sentiment</th>\n",
       "      <th>author</th>\n",
       "    </tr>\n",
       "  </thead>\n",
       "  <tbody>\n",
       "    <tr>\n",
       "      <th>0</th>\n",
       "      <td>Pain is inevitable, but misery is optional.</td>\n",
       "      <td>Negative</td>\n",
       "      <td>Tim Hansel</td>\n",
       "    </tr>\n",
       "    <tr>\n",
       "      <th>1</th>\n",
       "      <td>To avoid criticism, do nothing, say nothing, b...</td>\n",
       "      <td>Negative</td>\n",
       "      <td>Elbert Hubbard</td>\n",
       "    </tr>\n",
       "    <tr>\n",
       "      <th>2</th>\n",
       "      <td>Believe and act as if it were impossible to fail.</td>\n",
       "      <td>Negative</td>\n",
       "      <td>Charles Kettering</td>\n",
       "    </tr>\n",
       "    <tr>\n",
       "      <th>3</th>\n",
       "      <td>Never get out of the boat. Absolutely goddamn ...</td>\n",
       "      <td>Negative</td>\n",
       "      <td>Captain Willard</td>\n",
       "    </tr>\n",
       "    <tr>\n",
       "      <th>4</th>\n",
       "      <td>Nobody can make you feel inferior without your...</td>\n",
       "      <td>Negative</td>\n",
       "      <td>Eleanor Roosevelt</td>\n",
       "    </tr>\n",
       "    <tr>\n",
       "      <th>...</th>\n",
       "      <td>...</td>\n",
       "      <td>...</td>\n",
       "      <td>...</td>\n",
       "    </tr>\n",
       "    <tr>\n",
       "      <th>103</th>\n",
       "      <td>Don’t wish it were easier, wish you were better.</td>\n",
       "      <td>Positive</td>\n",
       "      <td>Jim Rohn</td>\n",
       "    </tr>\n",
       "    <tr>\n",
       "      <th>104</th>\n",
       "      <td>Out yonder there was this huge world, which ex...</td>\n",
       "      <td>Positive</td>\n",
       "      <td>Albert Einstein</td>\n",
       "    </tr>\n",
       "    <tr>\n",
       "      <th>105</th>\n",
       "      <td>Life is beautiful, so long as it is consuming ...</td>\n",
       "      <td>Positive</td>\n",
       "      <td>D.H. Lawrence</td>\n",
       "    </tr>\n",
       "    <tr>\n",
       "      <th>106</th>\n",
       "      <td>I offer you peace. I offer you love. I offer y...</td>\n",
       "      <td>Positive</td>\n",
       "      <td>Mahatma Gandhi</td>\n",
       "    </tr>\n",
       "    <tr>\n",
       "      <th>107</th>\n",
       "      <td>When we are mindful, deeply in touch with the ...</td>\n",
       "      <td>Positive</td>\n",
       "      <td>Thich Nhat Hanh</td>\n",
       "    </tr>\n",
       "  </tbody>\n",
       "</table>\n",
       "<p>108 rows × 3 columns</p>\n",
       "</div>"
      ]
     },
     "execution_count": 37,
     "metadata": {},
     "output_type": "execute_result"
    }
   ],
   "execution_count": 37
  },
  {
   "metadata": {
    "ExecuteTime": {
     "end_time": "2024-11-28T23:35:06.636604Z",
     "start_time": "2024-11-28T23:35:06.619625Z"
    }
   },
   "cell_type": "code",
   "source": [
    "# Display basic information about the DataFrame\n",
    "df.head()"
   ],
   "id": "796d302aee47b084",
   "outputs": [
    {
     "data": {
      "text/plain": [
       "                                               quote Sentiment  \\\n",
       "0        Pain is inevitable, but misery is optional.  Negative   \n",
       "1  To avoid criticism, do nothing, say nothing, b...  Negative   \n",
       "2  Believe and act as if it were impossible to fail.  Negative   \n",
       "3  Never get out of the boat. Absolutely goddamn ...  Negative   \n",
       "4  Nobody can make you feel inferior without your...  Negative   \n",
       "\n",
       "              author  \n",
       "0         Tim Hansel  \n",
       "1     Elbert Hubbard  \n",
       "2  Charles Kettering  \n",
       "3    Captain Willard  \n",
       "4  Eleanor Roosevelt  "
      ],
      "text/html": [
       "<div>\n",
       "<style scoped>\n",
       "    .dataframe tbody tr th:only-of-type {\n",
       "        vertical-align: middle;\n",
       "    }\n",
       "\n",
       "    .dataframe tbody tr th {\n",
       "        vertical-align: top;\n",
       "    }\n",
       "\n",
       "    .dataframe thead th {\n",
       "        text-align: right;\n",
       "    }\n",
       "</style>\n",
       "<table border=\"1\" class=\"dataframe\">\n",
       "  <thead>\n",
       "    <tr style=\"text-align: right;\">\n",
       "      <th></th>\n",
       "      <th>quote</th>\n",
       "      <th>Sentiment</th>\n",
       "      <th>author</th>\n",
       "    </tr>\n",
       "  </thead>\n",
       "  <tbody>\n",
       "    <tr>\n",
       "      <th>0</th>\n",
       "      <td>Pain is inevitable, but misery is optional.</td>\n",
       "      <td>Negative</td>\n",
       "      <td>Tim Hansel</td>\n",
       "    </tr>\n",
       "    <tr>\n",
       "      <th>1</th>\n",
       "      <td>To avoid criticism, do nothing, say nothing, b...</td>\n",
       "      <td>Negative</td>\n",
       "      <td>Elbert Hubbard</td>\n",
       "    </tr>\n",
       "    <tr>\n",
       "      <th>2</th>\n",
       "      <td>Believe and act as if it were impossible to fail.</td>\n",
       "      <td>Negative</td>\n",
       "      <td>Charles Kettering</td>\n",
       "    </tr>\n",
       "    <tr>\n",
       "      <th>3</th>\n",
       "      <td>Never get out of the boat. Absolutely goddamn ...</td>\n",
       "      <td>Negative</td>\n",
       "      <td>Captain Willard</td>\n",
       "    </tr>\n",
       "    <tr>\n",
       "      <th>4</th>\n",
       "      <td>Nobody can make you feel inferior without your...</td>\n",
       "      <td>Negative</td>\n",
       "      <td>Eleanor Roosevelt</td>\n",
       "    </tr>\n",
       "  </tbody>\n",
       "</table>\n",
       "</div>"
      ]
     },
     "execution_count": 42,
     "metadata": {},
     "output_type": "execute_result"
    }
   ],
   "execution_count": 42
  },
  {
   "metadata": {
    "ExecuteTime": {
     "end_time": "2024-11-28T23:35:37.601299Z",
     "start_time": "2024-11-28T23:35:37.590492Z"
    }
   },
   "cell_type": "code",
   "source": "df.info()",
   "id": "568f7942e92ddc7d",
   "outputs": [
    {
     "name": "stdout",
     "output_type": "stream",
     "text": [
      "<class 'pandas.core.frame.DataFrame'>\n",
      "RangeIndex: 108 entries, 0 to 107\n",
      "Data columns (total 3 columns):\n",
      " #   Column     Non-Null Count  Dtype \n",
      "---  ------     --------------  ----- \n",
      " 0   quote      108 non-null    object\n",
      " 1   Sentiment  108 non-null    object\n",
      " 2   author     108 non-null    object\n",
      "dtypes: object(3)\n",
      "memory usage: 2.7+ KB\n"
     ]
    }
   ],
   "execution_count": 44
  },
  {
   "metadata": {
    "ExecuteTime": {
     "end_time": "2024-11-28T23:37:50.298822Z",
     "start_time": "2024-11-28T23:37:50.264218Z"
    }
   },
   "cell_type": "code",
   "source": "print(df['Sentiment'].value_counts())  # Check sentiment distribution",
   "id": "661daa63ddf0292a",
   "outputs": [
    {
     "name": "stdout",
     "output_type": "stream",
     "text": [
      "Sentiment\n",
      "Positive    52\n",
      "Neutral     34\n",
      "Negative    22\n",
      "Name: count, dtype: int64\n"
     ]
    }
   ],
   "execution_count": 46
  },
  {
   "metadata": {
    "ExecuteTime": {
     "end_time": "2024-11-28T23:38:04.165767Z",
     "start_time": "2024-11-28T23:38:01.804789Z"
    }
   },
   "cell_type": "code",
   "source": [
    "# Visualize sentiment distribution\n",
    "import seaborn as sns\n",
    "import matplotlib.pyplot as plt"
   ],
   "id": "4335795213e272af",
   "outputs": [],
   "execution_count": 47
  },
  {
   "metadata": {
    "ExecuteTime": {
     "end_time": "2024-11-28T23:41:21.858395Z",
     "start_time": "2024-11-28T23:41:21.616950Z"
    }
   },
   "cell_type": "code",
   "source": [
    "# Updated countplot\n",
    "sns.countplot(data=df, x='Sentiment', palette='cool')\n",
    "plt.title('Sentiment Distribution')\n",
    "plt.xlabel('Sentiment')\n",
    "plt.ylabel('Count')\n",
    "plt.show()"
   ],
   "id": "eacfdb1fe82afc3d",
   "outputs": [
    {
     "name": "stderr",
     "output_type": "stream",
     "text": [
      "/var/folders/vq/2z3hvmh94k13pb_1b0fmr7wm0000gn/T/ipykernel_11746/2932032420.py:2: FutureWarning: \n",
      "\n",
      "Passing `palette` without assigning `hue` is deprecated and will be removed in v0.14.0. Assign the `x` variable to `hue` and set `legend=False` for the same effect.\n",
      "\n",
      "  sns.countplot(data=df, x='Sentiment', palette='cool')\n"
     ]
    },
    {
     "data": {
      "text/plain": [
       "<Figure size 640x480 with 1 Axes>"
      ],
      "image/png": "[encoded data removed]"
     },
     "metadata": {},
     "output_type": "display_data"
    }
   ],
   "execution_count": 53
  },
  {
   "metadata": {},
   "cell_type": "markdown",
   "source": "## Preprocessing Quotes",
   "id": "2039aaf0cfaf44e8"
  },
  {
   "metadata": {
    "ExecuteTime": {
     "end_time": "2024-11-28T23:55:37.940540Z",
     "start_time": "2024-11-28T23:55:37.865140Z"
    }
   },
   "cell_type": "code",
   "source": [
    "import re\n",
    "\n",
    "def preprocessing_text(text):\n",
    "    #Basic text cleaning\n",
    "    text = re.sub(r'[^a-zA-Z\\s]', '', text) # Remove special characters\n",
    "    text = text.lower().strip()\n",
    "    return text\n",
    "\n",
    "df['cleaned_quotes'] = df['quote'].apply(preprocessing_text)"
   ],
   "id": "c9f64a4fd427723f",
   "outputs": [],
   "execution_count": 57
  },
  {
   "metadata": {},
   "cell_type": "markdown",
   "source": "Explore removing Stopwords to see the impact on the model performance at the end",
   "id": "ce72f695c89d8477"
  },
  {
   "metadata": {
    "ExecuteTime": {
     "end_time": "2024-11-28T23:55:39.739679Z",
     "start_time": "2024-11-28T23:55:39.711865Z"
    }
   },
   "cell_type": "code",
   "source": [
    "from sklearn.model_selection import train_test_split\n",
    "df['cleaned_quotes']"
   ],
   "id": "5ebfce68b67d7972",
   "outputs": [
    {
     "data": {
      "text/plain": [
       "0              pain is inevitable but misery is optional\n",
       "1      to avoid criticism do nothing say nothing be n...\n",
       "2       believe and act as if it were impossible to fail\n",
       "3      never get out of the boat absolutely goddamn r...\n",
       "4      nobody can make you feel inferior without your...\n",
       "                             ...                        \n",
       "103        dont wish it were easier wish you were better\n",
       "104    out yonder there was this huge world which exi...\n",
       "105    life is beautiful so long as it is consuming y...\n",
       "106    i offer you peace i offer you love i offer you...\n",
       "107    when we are mindful deeply in touch with the p...\n",
       "Name: cleaned_quotes, Length: 108, dtype: object"
      ]
     },
     "execution_count": 58,
     "metadata": {},
     "output_type": "execute_result"
    }
   ],
   "execution_count": 58
  },
  {
   "metadata": {
    "ExecuteTime": {
     "end_time": "2024-11-28T23:58:38.794308Z",
     "start_time": "2024-11-28T23:58:38.778011Z"
    }
   },
   "cell_type": "code",
   "source": [
    "X = df['cleaned_quotes']  # Feature: cleaned quotes\n",
    "y = df['Sentiment']      # Target: sentiment labels\n"
   ],
   "id": "924cfb703952330c",
   "outputs": [],
   "execution_count": 60
  },
  {
   "metadata": {
    "ExecuteTime": {
     "end_time": "2024-11-28T23:58:41.357978Z",
     "start_time": "2024-11-28T23:58:41.189375Z"
    }
   },
   "cell_type": "code",
   "source": [
    "# Split the dataset\n",
    "X_train, X_test, y_train, y_test = train_test_split(X, y, test_size=0.2, random_state=42)\n"
   ],
   "id": "d836c149a6824504",
   "outputs": [],
   "execution_count": 61
  },
  {
   "metadata": {
    "ExecuteTime": {
     "end_time": "2024-11-28T23:59:01.918836Z",
     "start_time": "2024-11-28T23:59:01.908263Z"
    }
   },
   "cell_type": "code",
   "source": [
    "print(\"Training Set Size:\", len(X_train))\n",
    "print(\"Testing Set Size:\", len(X_test))"
   ],
   "id": "c10c04a4dfe95954",
   "outputs": [
    {
     "name": "stdout",
     "output_type": "stream",
     "text": [
      "Training Set Size: 86\n",
      "Testing Set Size: 22\n"
     ]
    }
   ],
   "execution_count": 62
  },
  {
   "metadata": {
    "ExecuteTime": {
     "end_time": "2024-11-29T00:01:25.741639Z",
     "start_time": "2024-11-29T00:01:25.639753Z"
    }
   },
   "cell_type": "code",
   "source": "from sklearn.feature_extraction.text import TfidfVectorizer\n",
   "id": "156961cafbc7aadc",
   "outputs": [],
   "execution_count": 63
  },
  {
   "metadata": {
    "ExecuteTime": {
     "end_time": "2024-11-29T00:01:40.271401Z",
     "start_time": "2024-11-29T00:01:39.545385Z"
    }
   },
   "cell_type": "code",
   "source": [
    "# TF-IDF Vectorization\n",
    "vectorizer = TfidfVectorizer(max_features=5000, ngram_range=(1, 2))\n",
    "X_train_tfidf = vectorizer.fit_transform(X_train)\n",
    "X_test_tfidf = vectorizer.transform(X_test)"
   ],
   "id": "e9b32bff6fe10178",
   "outputs": [],
   "execution_count": 64
  },
  {
   "metadata": {
    "ExecuteTime": {
     "end_time": "2024-11-29T00:01:56.303931Z",
     "start_time": "2024-11-29T00:01:53.840463Z"
    }
   },
   "cell_type": "code",
   "source": "from sklearn.ensemble import RandomForestClassifier\n",
   "id": "a20957c60a399c8a",
   "outputs": [],
   "execution_count": 65
  },
  {
   "metadata": {
    "ExecuteTime": {
     "end_time": "2024-11-29T00:02:02.846220Z",
     "start_time": "2024-11-29T00:02:02.284673Z"
    }
   },
   "cell_type": "code",
   "source": [
    "# Train Random Forest Classifier\n",
    "model = RandomForestClassifier(random_state=42)\n",
    "model.fit(X_train_tfidf, y_train)\n",
    "\n",
    "# Predict on the test set\n",
    "y_pred = model.predict(X_test_tfidf)"
   ],
   "id": "4ef053a83e80c0f",
   "outputs": [],
   "execution_count": 66
  },
  {
   "metadata": {
    "ExecuteTime": {
     "end_time": "2024-11-29T00:06:31.699512Z",
     "start_time": "2024-11-29T00:06:31.452103Z"
    }
   },
   "cell_type": "code",
   "source": [
    "from sklearn.metrics import accuracy_score, classification_report\n",
    "\n",
    "print(\"Accuracy:\", accuracy_score(y_test, y_pred))\n",
    "print(classification_report(y_test, y_pred))\n"
   ],
   "id": "42672af32effd700",
   "outputs": [
    {
     "name": "stdout",
     "output_type": "stream",
     "text": [
      "Accuracy: 0.5454545454545454\n",
      "              precision    recall  f1-score   support\n",
      "\n",
      "    Negative       0.00      0.00      0.00         6\n",
      "     Neutral       0.20      0.25      0.22         4\n",
      "    Positive       0.65      0.92      0.76        12\n",
      "\n",
      "    accuracy                           0.55        22\n",
      "   macro avg       0.28      0.39      0.33        22\n",
      "weighted avg       0.39      0.55      0.45        22\n",
      "\n"
     ]
    },
    {
     "name": "stderr",
     "output_type": "stream",
     "text": [
      "/opt/anaconda3/lib/python3.12/site-packages/sklearn/metrics/_classification.py:1509: UndefinedMetricWarning: Precision is ill-defined and being set to 0.0 in labels with no predicted samples. Use `zero_division` parameter to control this behavior.\n",
      "  _warn_prf(average, modifier, f\"{metric.capitalize()} is\", len(result))\n",
      "/opt/anaconda3/lib/python3.12/site-packages/sklearn/metrics/_classification.py:1509: UndefinedMetricWarning: Precision is ill-defined and being set to 0.0 in labels with no predicted samples. Use `zero_division` parameter to control this behavior.\n",
      "  _warn_prf(average, modifier, f\"{metric.capitalize()} is\", len(result))\n",
      "/opt/anaconda3/lib/python3.12/site-packages/sklearn/metrics/_classification.py:1509: UndefinedMetricWarning: Precision is ill-defined and being set to 0.0 in labels with no predicted samples. Use `zero_division` parameter to control this behavior.\n",
      "  _warn_prf(average, modifier, f\"{metric.capitalize()} is\", len(result))\n"
     ]
    }
   ],
   "execution_count": 67
  },
  {
   "metadata": {},
   "cell_type": "markdown",
   "source": [
    "## 2nd Retry\n",
    "Doing it again with a new and much bigger dataset, and we'll also add the sentiments and see how it works out if that improves the model"
   ],
   "id": "84419b5756f818c2"
  },
  {
   "metadata": {
    "ExecuteTime": {
     "end_time": "2024-11-29T10:49:18.915552Z",
     "start_time": "2024-11-29T10:49:17.661506Z"
    }
   },
   "cell_type": "code",
   "source": [
    "#load the quotes stash\n",
    "big_quotes = pd.read_csv('data/balanced_quotes.csv')\n",
    "# quotes = quotes[['quote','author']]\n",
    "print(big_quotes.shape)\n",
    "\n",
    "#since the file has over 500k data, we'll subset it into 20k\n",
    "# Assuming you have a large DataFrame named 'df'\n",
    "# big_quotes_subset = big_quotes.head(20000)\n",
    "big_quotes_subset = big_quotes.head(5000)\n",
    "\n",
    "big_quotes_subset.head()"
   ],
   "id": "cb65bccf18d7c371",
   "outputs": [
    {
     "name": "stdout",
     "output_type": "stream",
     "text": [
      "(60000, 4)\n"
     ]
    },
    {
     "data": {
      "text/plain": [
       "                                               quote  \\\n",
       "0  Make a spurious division of one process into t...   \n",
       "1  Yielding to God's will can be hard. And someti...   \n",
       "2  Normal is an illusion. What is normal for the ...   \n",
       "3  I maintain that the cosmic religious feeling i...   \n",
       "4  The issue of false consciousness is a genuinel...   \n",
       "\n",
       "                                              author  \\\n",
       "0  Alan W. Watts, The Book on the Taboo Against K...   \n",
       "1             John M. Perkins, Let Justice Roll Down   \n",
       "2                                     Charles Addams   \n",
       "3             Albert Einstein, The World As I See It   \n",
       "4         Ha-Joon Chang, Economics: The User's Guide   \n",
       "\n",
       "                                            category sentiment  \n",
       "0                                         philosophy  Negative  \n",
       "1           christian, christianity, faith, missions  Positive  \n",
       "2                       humor, life, morticia-addams  Negative  \n",
       "3                                  religion, science  Positive  \n",
       "4  economics, economy, false-consciousness, happi...  Positive  "
      ],
      "text/html": [
       "<div>\n",
       "<style scoped>\n",
       "    .dataframe tbody tr th:only-of-type {\n",
       "        vertical-align: middle;\n",
       "    }\n",
       "\n",
       "    .dataframe tbody tr th {\n",
       "        vertical-align: top;\n",
       "    }\n",
       "\n",
       "    .dataframe thead th {\n",
       "        text-align: right;\n",
       "    }\n",
       "</style>\n",
       "<table border=\"1\" class=\"dataframe\">\n",
       "  <thead>\n",
       "    <tr style=\"text-align: right;\">\n",
       "      <th></th>\n",
       "      <th>quote</th>\n",
       "      <th>author</th>\n",
       "      <th>category</th>\n",
       "      <th>sentiment</th>\n",
       "    </tr>\n",
       "  </thead>\n",
       "  <tbody>\n",
       "    <tr>\n",
       "      <th>0</th>\n",
       "      <td>Make a spurious division of one process into t...</td>\n",
       "      <td>Alan W. Watts, The Book on the Taboo Against K...</td>\n",
       "      <td>philosophy</td>\n",
       "      <td>Negative</td>\n",
       "    </tr>\n",
       "    <tr>\n",
       "      <th>1</th>\n",
       "      <td>Yielding to God's will can be hard. And someti...</td>\n",
       "      <td>John M. Perkins, Let Justice Roll Down</td>\n",
       "      <td>christian, christianity, faith, missions</td>\n",
       "      <td>Positive</td>\n",
       "    </tr>\n",
       "    <tr>\n",
       "      <th>2</th>\n",
       "      <td>Normal is an illusion. What is normal for the ...</td>\n",
       "      <td>Charles Addams</td>\n",
       "      <td>humor, life, morticia-addams</td>\n",
       "      <td>Negative</td>\n",
       "    </tr>\n",
       "    <tr>\n",
       "      <th>3</th>\n",
       "      <td>I maintain that the cosmic religious feeling i...</td>\n",
       "      <td>Albert Einstein, The World As I See It</td>\n",
       "      <td>religion, science</td>\n",
       "      <td>Positive</td>\n",
       "    </tr>\n",
       "    <tr>\n",
       "      <th>4</th>\n",
       "      <td>The issue of false consciousness is a genuinel...</td>\n",
       "      <td>Ha-Joon Chang, Economics: The User's Guide</td>\n",
       "      <td>economics, economy, false-consciousness, happi...</td>\n",
       "      <td>Positive</td>\n",
       "    </tr>\n",
       "  </tbody>\n",
       "</table>\n",
       "</div>"
      ]
     },
     "execution_count": 110,
     "metadata": {},
     "output_type": "execute_result"
    }
   ],
   "execution_count": 110
  },
  {
   "metadata": {
    "ExecuteTime": {
     "end_time": "2024-11-29T10:49:50.983019Z",
     "start_time": "2024-11-29T10:49:50.824477Z"
    }
   },
   "cell_type": "code",
   "source": [
    "# Create a copy of the original DataFrame\n",
    "big_quotes_subset_copy = big_quotes_subset.copy()\n",
    "big_quotes_subset_copy.to_csv('big_quotes_subset.csv', index=False)\n",
    "\n",
    "big_quotes_subset_copy = pd.read_csv('data/big_quotes_subset.csv')"
   ],
   "id": "51d3a11f564da98b",
   "outputs": [],
   "execution_count": 113
  },
  {
   "metadata": {
    "ExecuteTime": {
     "end_time": "2024-11-29T10:49:58.458581Z",
     "start_time": "2024-11-29T10:49:58.374626Z"
    }
   },
   "cell_type": "code",
   "source": "big_quotes_subset_copy.describe()",
   "id": "6a452cf304442744",
   "outputs": [
    {
     "data": {
      "text/plain": [
       "                                                    quote  \\\n",
       "count                                                5000   \n",
       "unique                                               5000   \n",
       "top     I'm selfish, impatient and a little insecure. ...   \n",
       "freq                                                    1   \n",
       "\n",
       "                                        author category Sentiment  \n",
       "count                                     4998     5000      5000  \n",
       "unique                                    2437     3589         3  \n",
       "top     Roy T. Bennett, The Light in the Heart     love  Positive  \n",
       "freq                                       151      558      3090  "
      ],
      "text/html": [
       "<div>\n",
       "<style scoped>\n",
       "    .dataframe tbody tr th:only-of-type {\n",
       "        vertical-align: middle;\n",
       "    }\n",
       "\n",
       "    .dataframe tbody tr th {\n",
       "        vertical-align: top;\n",
       "    }\n",
       "\n",
       "    .dataframe thead th {\n",
       "        text-align: right;\n",
       "    }\n",
       "</style>\n",
       "<table border=\"1\" class=\"dataframe\">\n",
       "  <thead>\n",
       "    <tr style=\"text-align: right;\">\n",
       "      <th></th>\n",
       "      <th>quote</th>\n",
       "      <th>author</th>\n",
       "      <th>category</th>\n",
       "      <th>Sentiment</th>\n",
       "    </tr>\n",
       "  </thead>\n",
       "  <tbody>\n",
       "    <tr>\n",
       "      <th>count</th>\n",
       "      <td>5000</td>\n",
       "      <td>4998</td>\n",
       "      <td>5000</td>\n",
       "      <td>5000</td>\n",
       "    </tr>\n",
       "    <tr>\n",
       "      <th>unique</th>\n",
       "      <td>5000</td>\n",
       "      <td>2437</td>\n",
       "      <td>3589</td>\n",
       "      <td>3</td>\n",
       "    </tr>\n",
       "    <tr>\n",
       "      <th>top</th>\n",
       "      <td>I'm selfish, impatient and a little insecure. ...</td>\n",
       "      <td>Roy T. Bennett, The Light in the Heart</td>\n",
       "      <td>love</td>\n",
       "      <td>Positive</td>\n",
       "    </tr>\n",
       "    <tr>\n",
       "      <th>freq</th>\n",
       "      <td>1</td>\n",
       "      <td>151</td>\n",
       "      <td>558</td>\n",
       "      <td>3090</td>\n",
       "    </tr>\n",
       "  </tbody>\n",
       "</table>\n",
       "</div>"
      ]
     },
     "execution_count": 115,
     "metadata": {},
     "output_type": "execute_result"
    }
   ],
   "execution_count": 115
  },
  {
   "metadata": {
    "ExecuteTime": {
     "end_time": "2024-11-29T10:50:03.145512Z",
     "start_time": "2024-11-29T10:50:02.913826Z"
    }
   },
   "cell_type": "code",
   "source": "big_quotes_subset.info()",
   "id": "5d23584e14405d72",
   "outputs": [
    {
     "name": "stdout",
     "output_type": "stream",
     "text": [
      "<class 'pandas.core.frame.DataFrame'>\n",
      "RangeIndex: 5000 entries, 0 to 4999\n",
      "Data columns (total 4 columns):\n",
      " #   Column     Non-Null Count  Dtype \n",
      "---  ------     --------------  ----- \n",
      " 0   quote      5000 non-null   object\n",
      " 1   author     4998 non-null   object\n",
      " 2   category   5000 non-null   object\n",
      " 3   Sentiment  5000 non-null   object\n",
      "dtypes: object(4)\n",
      "memory usage: 156.4+ KB\n"
     ]
    }
   ],
   "execution_count": 116
  },
  {
   "metadata": {
    "ExecuteTime": {
     "end_time": "2024-11-29T10:50:10.235528Z",
     "start_time": "2024-11-29T10:50:06.496677Z"
    }
   },
   "cell_type": "code",
   "source": [
    "##Adding the sentiment\n",
    "big_quotes_subset['Sentiment'] = big_quotes_subset['quote'].apply(get_sentiment_label)\n",
    "\n"
   ],
   "id": "21d24d357269c834",
   "outputs": [],
   "execution_count": 117
  },
  {
   "metadata": {
    "ExecuteTime": {
     "end_time": "2024-11-29T01:03:18.215402Z",
     "start_time": "2024-11-29T01:03:18.139592Z"
    }
   },
   "cell_type": "code",
   "source": "big_quotes_subset.describe()",
   "id": "6afe997f55ecc19b",
   "outputs": [
    {
     "data": {
      "text/plain": [
       "                                                    quote  \\\n",
       "count                                                5000   \n",
       "unique                                               5000   \n",
       "top     I'm selfish, impatient and a little insecure. ...   \n",
       "freq                                                    1   \n",
       "\n",
       "                                        author category Sentiment  \n",
       "count                                     4998     5000      5000  \n",
       "unique                                    2437     3589         3  \n",
       "top     Roy T. Bennett, The Light in the Heart     love  Positive  \n",
       "freq                                       151      558      3090  "
      ],
      "text/html": [
       "<div>\n",
       "<style scoped>\n",
       "    .dataframe tbody tr th:only-of-type {\n",
       "        vertical-align: middle;\n",
       "    }\n",
       "\n",
       "    .dataframe tbody tr th {\n",
       "        vertical-align: top;\n",
       "    }\n",
       "\n",
       "    .dataframe thead th {\n",
       "        text-align: right;\n",
       "    }\n",
       "</style>\n",
       "<table border=\"1\" class=\"dataframe\">\n",
       "  <thead>\n",
       "    <tr style=\"text-align: right;\">\n",
       "      <th></th>\n",
       "      <th>quote</th>\n",
       "      <th>author</th>\n",
       "      <th>category</th>\n",
       "      <th>Sentiment</th>\n",
       "    </tr>\n",
       "  </thead>\n",
       "  <tbody>\n",
       "    <tr>\n",
       "      <th>count</th>\n",
       "      <td>5000</td>\n",
       "      <td>4998</td>\n",
       "      <td>5000</td>\n",
       "      <td>5000</td>\n",
       "    </tr>\n",
       "    <tr>\n",
       "      <th>unique</th>\n",
       "      <td>5000</td>\n",
       "      <td>2437</td>\n",
       "      <td>3589</td>\n",
       "      <td>3</td>\n",
       "    </tr>\n",
       "    <tr>\n",
       "      <th>top</th>\n",
       "      <td>I'm selfish, impatient and a little insecure. ...</td>\n",
       "      <td>Roy T. Bennett, The Light in the Heart</td>\n",
       "      <td>love</td>\n",
       "      <td>Positive</td>\n",
       "    </tr>\n",
       "    <tr>\n",
       "      <th>freq</th>\n",
       "      <td>1</td>\n",
       "      <td>151</td>\n",
       "      <td>558</td>\n",
       "      <td>3090</td>\n",
       "    </tr>\n",
       "  </tbody>\n",
       "</table>\n",
       "</div>"
      ]
     },
     "execution_count": 93,
     "metadata": {},
     "output_type": "execute_result"
    }
   ],
   "execution_count": 93
  },
  {
   "metadata": {
    "ExecuteTime": {
     "end_time": "2024-11-29T01:04:54.499675Z",
     "start_time": "2024-11-29T01:04:54.388556Z"
    }
   },
   "cell_type": "code",
   "source": "big_quotes_subset['cleaned_quotes'] = big_quotes_subset['quote'].apply(preprocessing_text)",
   "id": "bc3c9df126db406c",
   "outputs": [],
   "execution_count": 94
  },
  {
   "metadata": {
    "ExecuteTime": {
     "end_time": "2024-11-29T01:05:54.684279Z",
     "start_time": "2024-11-29T01:05:54.545237Z"
    }
   },
   "cell_type": "code",
   "source": "big_quotes_subset['cleaned_quotes']",
   "id": "a7d15d3d5f524a91",
   "outputs": [
    {
     "data": {
      "text/plain": [
       "0       im selfish impatient and a little insecure i m...\n",
       "1       youve gotta dance like theres nobody watchingl...\n",
       "2       you know youre in love when you cant fall asle...\n",
       "3       a friend is someone who knows all about you an...\n",
       "4       darkness cannot drive out darkness only light ...\n",
       "                              ...                        \n",
       "4995    do good live in the most positive and joyful w...\n",
       "4996                                  what am i dying for\n",
       "4997    until you change how you get things done youll...\n",
       "4998    end no the journey doesnt end here death is ju...\n",
       "4999    it is a fine thing to establish ones own relig...\n",
       "Name: cleaned_quotes, Length: 5000, dtype: object"
      ]
     },
     "execution_count": 95,
     "metadata": {},
     "output_type": "execute_result"
    }
   ],
   "execution_count": 95
  },
  {
   "metadata": {
    "ExecuteTime": {
     "end_time": "2024-11-29T01:08:13.978591Z",
     "start_time": "2024-11-29T01:08:13.698779Z"
    }
   },
   "cell_type": "code",
   "source": [
    "X_data = big_quotes_subset['cleaned_quotes']  # Feature: cleaned quotes\n",
    "y_label = big_quotes_subset['Sentiment']      # Target: sentiment labels\n",
    "\n",
    "# Split into train and test sets\n",
    "X_train, X_test, y_train, y_test = train_test_split(X_data, y_label, test_size=0.2, random_state=42)\n"
   ],
   "id": "59fce4d00f83e6b0",
   "outputs": [],
   "execution_count": 97
  },
  {
   "metadata": {
    "ExecuteTime": {
     "end_time": "2024-11-29T01:08:22.523132Z",
     "start_time": "2024-11-29T01:08:21.983531Z"
    }
   },
   "cell_type": "code",
   "source": [
    "from sklearn.feature_extraction.text import TfidfVectorizer\n",
    "\n",
    "# Vectorize the text data\n",
    "vectorizer = TfidfVectorizer(max_features=5000)\n",
    "X_train_tfidf = vectorizer.fit_transform(X_train)\n",
    "X_test_tfidf = vectorizer.transform(X_test)"
   ],
   "id": "476eb38c391bd2fa",
   "outputs": [],
   "execution_count": 98
  },
  {
   "metadata": {
    "ExecuteTime": {
     "end_time": "2024-11-29T01:08:51.218948Z",
     "start_time": "2024-11-29T01:08:50.217941Z"
    }
   },
   "cell_type": "code",
   "source": [
    "from sklearn.linear_model import LogisticRegression\n",
    "\n",
    "# Train the model\n",
    "model = LogisticRegression()\n",
    "model.fit(X_train_tfidf, y_train)\n",
    "\n",
    "# Test the model\n",
    "y_pred = model.predict(X_test_tfidf)"
   ],
   "id": "af0252ee96ccd88c",
   "outputs": [],
   "execution_count": 100
  },
  {
   "metadata": {
    "ExecuteTime": {
     "end_time": "2024-11-29T01:09:01.318404Z",
     "start_time": "2024-11-29T01:09:01.059990Z"
    }
   },
   "cell_type": "code",
   "source": [
    "from sklearn.metrics import classification_report, accuracy_score\n",
    "\n",
    "# Print metrics\n",
    "print(\"Accuracy:\", accuracy_score(y_test, y_pred))\n",
    "print(classification_report(y_test, y_pred))\n"
   ],
   "id": "6e73c9f07ee00c74",
   "outputs": [
    {
     "name": "stdout",
     "output_type": "stream",
     "text": [
      "Accuracy: 0.704\n",
      "              precision    recall  f1-score   support\n",
      "\n",
      "    Negative       0.65      0.38      0.48       250\n",
      "     Neutral       0.86      0.15      0.25       122\n",
      "    Positive       0.71      0.94      0.81       628\n",
      "\n",
      "    accuracy                           0.70      1000\n",
      "   macro avg       0.74      0.49      0.51      1000\n",
      "weighted avg       0.71      0.70      0.66      1000\n",
      "\n"
     ]
    }
   ],
   "execution_count": 101
  },
  {
   "metadata": {},
   "cell_type": "markdown",
   "source": "## 3rd Retry",
   "id": "e2c22fbb31e4951e"
  },
  {
   "metadata": {
    "ExecuteTime": {
     "end_time": "2024-11-29T10:50:43.528405Z",
     "start_time": "2024-11-29T10:50:43.010747Z"
    }
   },
   "cell_type": "code",
   "source": [
    "#load the quotes stash\n",
    "bigquotes = pd.read_csv('data/balanced_quotes.csv')\n",
    "# quotes = quotes[['quote','author']]\n",
    "print(bigquotes.shape)\n"
   ],
   "id": "5b51995f70f7c4d3",
   "outputs": [
    {
     "name": "stdout",
     "output_type": "stream",
     "text": [
      "(60000, 4)\n"
     ]
    }
   ],
   "execution_count": 118
  },
  {
   "metadata": {
    "ExecuteTime": {
     "end_time": "2024-11-29T10:56:53.291336Z",
     "start_time": "2024-11-29T10:56:53.174114Z"
    }
   },
   "cell_type": "code",
   "source": [
    "bigquotes = bigquotes.dropna(subset=['author'])\n",
    "bigquotes = bigquotes.dropna(subset=['category'])"
   ],
   "id": "4f91821f326bbf02",
   "outputs": [],
   "execution_count": 125
  },
  {
   "metadata": {
    "ExecuteTime": {
     "end_time": "2024-11-29T10:56:55.165285Z",
     "start_time": "2024-11-29T10:56:54.851413Z"
    }
   },
   "cell_type": "code",
   "source": "bigquotes.describe()",
   "id": "6a379fd5548e8092",
   "outputs": [
    {
     "data": {
      "text/plain": [
       "                                                    quote           author  \\\n",
       "count                                               59979            59979   \n",
       "unique                                              31819            13774   \n",
       "top     A story is a letter that the author writes to ...  Debasish Mridha   \n",
       "freq                                                   10             1159   \n",
       "\n",
       "       category sentiment  \n",
       "count     59979     59979  \n",
       "unique    22923         3  \n",
       "top     writing  Negative  \n",
       "freq       1008     19994  "
      ],
      "text/html": [
       "<div>\n",
       "<style scoped>\n",
       "    .dataframe tbody tr th:only-of-type {\n",
       "        vertical-align: middle;\n",
       "    }\n",
       "\n",
       "    .dataframe tbody tr th {\n",
       "        vertical-align: top;\n",
       "    }\n",
       "\n",
       "    .dataframe thead th {\n",
       "        text-align: right;\n",
       "    }\n",
       "</style>\n",
       "<table border=\"1\" class=\"dataframe\">\n",
       "  <thead>\n",
       "    <tr style=\"text-align: right;\">\n",
       "      <th></th>\n",
       "      <th>quote</th>\n",
       "      <th>author</th>\n",
       "      <th>category</th>\n",
       "      <th>sentiment</th>\n",
       "    </tr>\n",
       "  </thead>\n",
       "  <tbody>\n",
       "    <tr>\n",
       "      <th>count</th>\n",
       "      <td>59979</td>\n",
       "      <td>59979</td>\n",
       "      <td>59979</td>\n",
       "      <td>59979</td>\n",
       "    </tr>\n",
       "    <tr>\n",
       "      <th>unique</th>\n",
       "      <td>31819</td>\n",
       "      <td>13774</td>\n",
       "      <td>22923</td>\n",
       "      <td>3</td>\n",
       "    </tr>\n",
       "    <tr>\n",
       "      <th>top</th>\n",
       "      <td>A story is a letter that the author writes to ...</td>\n",
       "      <td>Debasish Mridha</td>\n",
       "      <td>writing</td>\n",
       "      <td>Negative</td>\n",
       "    </tr>\n",
       "    <tr>\n",
       "      <th>freq</th>\n",
       "      <td>10</td>\n",
       "      <td>1159</td>\n",
       "      <td>1008</td>\n",
       "      <td>19994</td>\n",
       "    </tr>\n",
       "  </tbody>\n",
       "</table>\n",
       "</div>"
      ]
     },
     "execution_count": 126,
     "metadata": {},
     "output_type": "execute_result"
    }
   ],
   "execution_count": 126
  },
  {
   "metadata": {
    "ExecuteTime": {
     "end_time": "2024-11-29T10:55:58.584674Z",
     "start_time": "2024-11-29T10:55:58.022030Z"
    }
   },
   "cell_type": "code",
   "source": "bigquotes.describe()",
   "id": "26e4cf7510499838",
   "outputs": [
    {
     "data": {
      "text/plain": [
       "                                                    quote           author  \\\n",
       "count                                               59982            59982   \n",
       "unique                                              31820            13775   \n",
       "top     A story is a letter that the author writes to ...  Debasish Mridha   \n",
       "freq                                                   10             1159   \n",
       "\n",
       "       category sentiment  \n",
       "count     59979     59982  \n",
       "unique    22923         3  \n",
       "top     writing  Negative  \n",
       "freq       1008     19994  "
      ],
      "text/html": [
       "<div>\n",
       "<style scoped>\n",
       "    .dataframe tbody tr th:only-of-type {\n",
       "        vertical-align: middle;\n",
       "    }\n",
       "\n",
       "    .dataframe tbody tr th {\n",
       "        vertical-align: top;\n",
       "    }\n",
       "\n",
       "    .dataframe thead th {\n",
       "        text-align: right;\n",
       "    }\n",
       "</style>\n",
       "<table border=\"1\" class=\"dataframe\">\n",
       "  <thead>\n",
       "    <tr style=\"text-align: right;\">\n",
       "      <th></th>\n",
       "      <th>quote</th>\n",
       "      <th>author</th>\n",
       "      <th>category</th>\n",
       "      <th>sentiment</th>\n",
       "    </tr>\n",
       "  </thead>\n",
       "  <tbody>\n",
       "    <tr>\n",
       "      <th>count</th>\n",
       "      <td>59982</td>\n",
       "      <td>59982</td>\n",
       "      <td>59979</td>\n",
       "      <td>59982</td>\n",
       "    </tr>\n",
       "    <tr>\n",
       "      <th>unique</th>\n",
       "      <td>31820</td>\n",
       "      <td>13775</td>\n",
       "      <td>22923</td>\n",
       "      <td>3</td>\n",
       "    </tr>\n",
       "    <tr>\n",
       "      <th>top</th>\n",
       "      <td>A story is a letter that the author writes to ...</td>\n",
       "      <td>Debasish Mridha</td>\n",
       "      <td>writing</td>\n",
       "      <td>Negative</td>\n",
       "    </tr>\n",
       "    <tr>\n",
       "      <th>freq</th>\n",
       "      <td>10</td>\n",
       "      <td>1159</td>\n",
       "      <td>1008</td>\n",
       "      <td>19994</td>\n",
       "    </tr>\n",
       "  </tbody>\n",
       "</table>\n",
       "</div>"
      ]
     },
     "execution_count": 124,
     "metadata": {},
     "output_type": "execute_result"
    }
   ],
   "execution_count": 124
  },
  {
   "metadata": {
    "ExecuteTime": {
     "end_time": "2024-11-29T11:00:19.878801Z",
     "start_time": "2024-11-29T11:00:19.814346Z"
    }
   },
   "cell_type": "code",
   "source": [
    "print(bigquotes.isnull().sum())\n",
    "print(len(bigquotes['quote']), len(bigquotes['sentiment']), len(bigquotes['author']))\n"
   ],
   "id": "562bf91608d688f1",
   "outputs": [
    {
     "name": "stdout",
     "output_type": "stream",
     "text": [
      "quote        0\n",
      "author       0\n",
      "category     0\n",
      "sentiment    0\n",
      "dtype: int64\n",
      "59979 59979 59979\n"
     ]
    }
   ],
   "execution_count": 130
  },
  {
   "metadata": {
    "ExecuteTime": {
     "end_time": "2024-11-29T11:00:54.841424Z",
     "start_time": "2024-11-29T11:00:54.020143Z"
    }
   },
   "cell_type": "code",
   "source": "bigquotes.describe()",
   "id": "4d86d383489384dc",
   "outputs": [
    {
     "data": {
      "text/plain": [
       "                                                    quote           author  \\\n",
       "count                                               59979            59979   \n",
       "unique                                              31819            13774   \n",
       "top     A story is a letter that the author writes to ...  Debasish Mridha   \n",
       "freq                                                   10             1159   \n",
       "\n",
       "       category sentiment  \n",
       "count     59979     59979  \n",
       "unique    22923         3  \n",
       "top     writing  Negative  \n",
       "freq       1008     19994  "
      ],
      "text/html": [
       "<div>\n",
       "<style scoped>\n",
       "    .dataframe tbody tr th:only-of-type {\n",
       "        vertical-align: middle;\n",
       "    }\n",
       "\n",
       "    .dataframe tbody tr th {\n",
       "        vertical-align: top;\n",
       "    }\n",
       "\n",
       "    .dataframe thead th {\n",
       "        text-align: right;\n",
       "    }\n",
       "</style>\n",
       "<table border=\"1\" class=\"dataframe\">\n",
       "  <thead>\n",
       "    <tr style=\"text-align: right;\">\n",
       "      <th></th>\n",
       "      <th>quote</th>\n",
       "      <th>author</th>\n",
       "      <th>category</th>\n",
       "      <th>sentiment</th>\n",
       "    </tr>\n",
       "  </thead>\n",
       "  <tbody>\n",
       "    <tr>\n",
       "      <th>count</th>\n",
       "      <td>59979</td>\n",
       "      <td>59979</td>\n",
       "      <td>59979</td>\n",
       "      <td>59979</td>\n",
       "    </tr>\n",
       "    <tr>\n",
       "      <th>unique</th>\n",
       "      <td>31819</td>\n",
       "      <td>13774</td>\n",
       "      <td>22923</td>\n",
       "      <td>3</td>\n",
       "    </tr>\n",
       "    <tr>\n",
       "      <th>top</th>\n",
       "      <td>A story is a letter that the author writes to ...</td>\n",
       "      <td>Debasish Mridha</td>\n",
       "      <td>writing</td>\n",
       "      <td>Negative</td>\n",
       "    </tr>\n",
       "    <tr>\n",
       "      <th>freq</th>\n",
       "      <td>10</td>\n",
       "      <td>1159</td>\n",
       "      <td>1008</td>\n",
       "      <td>19994</td>\n",
       "    </tr>\n",
       "  </tbody>\n",
       "</table>\n",
       "</div>"
      ]
     },
     "execution_count": 131,
     "metadata": {},
     "output_type": "execute_result"
    }
   ],
   "execution_count": 131
  },
  {
   "metadata": {
    "ExecuteTime": {
     "end_time": "2024-11-29T11:06:28.146635Z",
     "start_time": "2024-11-29T11:06:27.695531Z"
    }
   },
   "cell_type": "code",
   "source": [
    "# Check for duplicate quotes\n",
    "duplicates = bigquotes[bigquotes.duplicated(subset=['quote'])]\n",
    "print(f\"Number of duplicate quotes: {len(duplicates)}\")"
   ],
   "id": "d1f1f73220679f41",
   "outputs": [
    {
     "name": "stdout",
     "output_type": "stream",
     "text": [
      "Number of duplicate quotes: 28160\n"
     ]
    }
   ],
   "execution_count": 137
  },
  {
   "metadata": {
    "ExecuteTime": {
     "end_time": "2024-11-29T11:07:07.143931Z",
     "start_time": "2024-11-29T11:07:07.032008Z"
    }
   },
   "cell_type": "code",
   "source": [
    "# Drop duplicates based on the 'quote' column\n",
    "bigquotes_unique = bigquotes.drop_duplicates(subset=['quote'])\n",
    "print(f\"Number of unique quotes after removing duplicates: {len(bigquotes_unique)}\")\n"
   ],
   "id": "8bbc4bb6b3fedace",
   "outputs": [
    {
     "name": "stdout",
     "output_type": "stream",
     "text": [
      "Number of unique quotes after removing duplicates: 31819\n"
     ]
    }
   ],
   "execution_count": 139
  },
  {
   "metadata": {
    "ExecuteTime": {
     "end_time": "2024-11-29T11:07:36.488165Z",
     "start_time": "2024-11-29T11:07:36.240713Z"
    }
   },
   "cell_type": "code",
   "source": "bigquotes_unique.describe()",
   "id": "70c019314740615d",
   "outputs": [
    {
     "data": {
      "text/plain": [
       "                                                    quote           author  \\\n",
       "count                                               31819            31819   \n",
       "unique                                              31819            13774   \n",
       "top     Make a spurious division of one process into t...  Debasish Mridha   \n",
       "freq                                                    1              656   \n",
       "\n",
       "             category sentiment  \n",
       "count           31819     31819  \n",
       "unique          22923         3  \n",
       "top     inspirational  Positive  \n",
       "freq              496     14383  "
      ],
      "text/html": [
       "<div>\n",
       "<style scoped>\n",
       "    .dataframe tbody tr th:only-of-type {\n",
       "        vertical-align: middle;\n",
       "    }\n",
       "\n",
       "    .dataframe tbody tr th {\n",
       "        vertical-align: top;\n",
       "    }\n",
       "\n",
       "    .dataframe thead th {\n",
       "        text-align: right;\n",
       "    }\n",
       "</style>\n",
       "<table border=\"1\" class=\"dataframe\">\n",
       "  <thead>\n",
       "    <tr style=\"text-align: right;\">\n",
       "      <th></th>\n",
       "      <th>quote</th>\n",
       "      <th>author</th>\n",
       "      <th>category</th>\n",
       "      <th>sentiment</th>\n",
       "    </tr>\n",
       "  </thead>\n",
       "  <tbody>\n",
       "    <tr>\n",
       "      <th>count</th>\n",
       "      <td>31819</td>\n",
       "      <td>31819</td>\n",
       "      <td>31819</td>\n",
       "      <td>31819</td>\n",
       "    </tr>\n",
       "    <tr>\n",
       "      <th>unique</th>\n",
       "      <td>31819</td>\n",
       "      <td>13774</td>\n",
       "      <td>22923</td>\n",
       "      <td>3</td>\n",
       "    </tr>\n",
       "    <tr>\n",
       "      <th>top</th>\n",
       "      <td>Make a spurious division of one process into t...</td>\n",
       "      <td>Debasish Mridha</td>\n",
       "      <td>inspirational</td>\n",
       "      <td>Positive</td>\n",
       "    </tr>\n",
       "    <tr>\n",
       "      <th>freq</th>\n",
       "      <td>1</td>\n",
       "      <td>656</td>\n",
       "      <td>496</td>\n",
       "      <td>14383</td>\n",
       "    </tr>\n",
       "  </tbody>\n",
       "</table>\n",
       "</div>"
      ]
     },
     "execution_count": 140,
     "metadata": {},
     "output_type": "execute_result"
    }
   ],
   "execution_count": 140
  },
  {
   "metadata": {
    "ExecuteTime": {
     "end_time": "2024-11-29T11:09:59.874461Z",
     "start_time": "2024-11-29T11:09:59.740759Z"
    }
   },
   "cell_type": "code",
   "source": [
    "#bigquotes = bigquotes[bigquotes['sentiment'] != 'Neutral']  # Filter the full dataset\n",
    "# X = df[['feature1', 'feature2']]\n",
    "# y = df['sentiment']\n",
    "\n",
    "X_data_2 = bigquotes_unique['quote']  # Feature: cleaned quotes\n",
    "y_label_2 = bigquotes_unique['sentiment']      # Target: sentiment labels\n"
   ],
   "id": "aadf7c3ca0f8c1c9",
   "outputs": [],
   "execution_count": 141
  },
  {
   "metadata": {
    "ExecuteTime": {
     "end_time": "2024-11-29T11:10:03.938754Z",
     "start_time": "2024-11-29T11:10:03.907352Z"
    }
   },
   "cell_type": "code",
   "source": [
    "print(len(X_data_2))  # For example, your feature data (quotes, cleaned_quotes, etc.)\n",
    "print(len(y_label_2))  # For example, your target variable (sentiments)\n"
   ],
   "id": "2fec752b865add9e",
   "outputs": [
    {
     "name": "stdout",
     "output_type": "stream",
     "text": [
      "31819\n",
      "31819\n"
     ]
    }
   ],
   "execution_count": 142
  },
  {
   "metadata": {
    "ExecuteTime": {
     "end_time": "2024-11-29T11:10:07.196785Z",
     "start_time": "2024-11-29T11:10:07.033326Z"
    }
   },
   "cell_type": "code",
   "source": [
    "\n",
    "# Split into train and test sets\n",
    "X_train, X_test, y_train, y_test = train_test_split(X_data_2, y_label_2, test_size=0.2, random_state=42)\n"
   ],
   "id": "637965b4915f99cd",
   "outputs": [],
   "execution_count": 143
  },
  {
   "metadata": {
    "ExecuteTime": {
     "end_time": "2024-11-29T11:10:12.732897Z",
     "start_time": "2024-11-29T11:10:09.806500Z"
    }
   },
   "cell_type": "code",
   "source": [
    "from sklearn.feature_extraction.text import TfidfVectorizer\n",
    "\n",
    "# Vectorize the text data\n",
    "vectorizer = TfidfVectorizer(max_features=5000)\n",
    "X_train_tfidf = vectorizer.fit_transform(X_train)\n",
    "X_test_tfidf = vectorizer.transform(X_test)"
   ],
   "id": "280f5305e5376e36",
   "outputs": [],
   "execution_count": 144
  },
  {
   "metadata": {
    "ExecuteTime": {
     "end_time": "2024-11-29T11:10:14.432719Z",
     "start_time": "2024-11-29T11:10:13.876396Z"
    }
   },
   "cell_type": "code",
   "source": [
    "from sklearn.metrics import classification_report, accuracy_score\n",
    "\n",
    "# Print metrics\n",
    "print(\"Accuracy:\", accuracy_score(y_test, y_pred))\n",
    "print(classification_report(y_test, y_pred))\n"
   ],
   "id": "5b2cfd9b34638833",
   "outputs": [
    {
     "ename": "ValueError",
     "evalue": "Found input variables with inconsistent numbers of samples: [6364, 1000]",
     "output_type": "error",
     "traceback": [
      "\u001B[0;31m---------------------------------------------------------------------------\u001B[0m",
      "\u001B[0;31mValueError\u001B[0m                                Traceback (most recent call last)",
      "Cell \u001B[0;32mIn[145], line 4\u001B[0m\n\u001B[1;32m      1\u001B[0m \u001B[38;5;28;01mfrom\u001B[39;00m \u001B[38;5;21;01msklearn\u001B[39;00m\u001B[38;5;21;01m.\u001B[39;00m\u001B[38;5;21;01mmetrics\u001B[39;00m \u001B[38;5;28;01mimport\u001B[39;00m classification_report, accuracy_score\n\u001B[1;32m      3\u001B[0m \u001B[38;5;66;03m# Print metrics\u001B[39;00m\n\u001B[0;32m----> 4\u001B[0m \u001B[38;5;28mprint\u001B[39m(\u001B[38;5;124m\"\u001B[39m\u001B[38;5;124mAccuracy:\u001B[39m\u001B[38;5;124m\"\u001B[39m, accuracy_score(y_test, y_pred))\n\u001B[1;32m      5\u001B[0m \u001B[38;5;28mprint\u001B[39m(classification_report(y_test, y_pred))\n",
      "File \u001B[0;32m/opt/anaconda3/lib/python3.12/site-packages/sklearn/utils/_param_validation.py:213\u001B[0m, in \u001B[0;36mvalidate_params.<locals>.decorator.<locals>.wrapper\u001B[0;34m(*args, **kwargs)\u001B[0m\n\u001B[1;32m    207\u001B[0m \u001B[38;5;28;01mtry\u001B[39;00m:\n\u001B[1;32m    208\u001B[0m     \u001B[38;5;28;01mwith\u001B[39;00m config_context(\n\u001B[1;32m    209\u001B[0m         skip_parameter_validation\u001B[38;5;241m=\u001B[39m(\n\u001B[1;32m    210\u001B[0m             prefer_skip_nested_validation \u001B[38;5;129;01mor\u001B[39;00m global_skip_validation\n\u001B[1;32m    211\u001B[0m         )\n\u001B[1;32m    212\u001B[0m     ):\n\u001B[0;32m--> 213\u001B[0m         \u001B[38;5;28;01mreturn\u001B[39;00m func(\u001B[38;5;241m*\u001B[39margs, \u001B[38;5;241m*\u001B[39m\u001B[38;5;241m*\u001B[39mkwargs)\n\u001B[1;32m    214\u001B[0m \u001B[38;5;28;01mexcept\u001B[39;00m InvalidParameterError \u001B[38;5;28;01mas\u001B[39;00m e:\n\u001B[1;32m    215\u001B[0m     \u001B[38;5;66;03m# When the function is just a wrapper around an estimator, we allow\u001B[39;00m\n\u001B[1;32m    216\u001B[0m     \u001B[38;5;66;03m# the function to delegate validation to the estimator, but we replace\u001B[39;00m\n\u001B[1;32m    217\u001B[0m     \u001B[38;5;66;03m# the name of the estimator by the name of the function in the error\u001B[39;00m\n\u001B[1;32m    218\u001B[0m     \u001B[38;5;66;03m# message to avoid confusion.\u001B[39;00m\n\u001B[1;32m    219\u001B[0m     msg \u001B[38;5;241m=\u001B[39m re\u001B[38;5;241m.\u001B[39msub(\n\u001B[1;32m    220\u001B[0m         \u001B[38;5;124mr\u001B[39m\u001B[38;5;124m\"\u001B[39m\u001B[38;5;124mparameter of \u001B[39m\u001B[38;5;124m\\\u001B[39m\u001B[38;5;124mw+ must be\u001B[39m\u001B[38;5;124m\"\u001B[39m,\n\u001B[1;32m    221\u001B[0m         \u001B[38;5;124mf\u001B[39m\u001B[38;5;124m\"\u001B[39m\u001B[38;5;124mparameter of \u001B[39m\u001B[38;5;132;01m{\u001B[39;00mfunc\u001B[38;5;241m.\u001B[39m\u001B[38;5;18m__qualname__\u001B[39m\u001B[38;5;132;01m}\u001B[39;00m\u001B[38;5;124m must be\u001B[39m\u001B[38;5;124m\"\u001B[39m,\n\u001B[1;32m    222\u001B[0m         \u001B[38;5;28mstr\u001B[39m(e),\n\u001B[1;32m    223\u001B[0m     )\n",
      "File \u001B[0;32m/opt/anaconda3/lib/python3.12/site-packages/sklearn/metrics/_classification.py:213\u001B[0m, in \u001B[0;36maccuracy_score\u001B[0;34m(y_true, y_pred, normalize, sample_weight)\u001B[0m\n\u001B[1;32m    147\u001B[0m \u001B[38;5;250m\u001B[39m\u001B[38;5;124;03m\"\"\"Accuracy classification score.\u001B[39;00m\n\u001B[1;32m    148\u001B[0m \n\u001B[1;32m    149\u001B[0m \u001B[38;5;124;03mIn multilabel classification, this function computes subset accuracy:\u001B[39;00m\n\u001B[0;32m   (...)\u001B[0m\n\u001B[1;32m    209\u001B[0m \u001B[38;5;124;03m0.5\u001B[39;00m\n\u001B[1;32m    210\u001B[0m \u001B[38;5;124;03m\"\"\"\u001B[39;00m\n\u001B[1;32m    212\u001B[0m \u001B[38;5;66;03m# Compute accuracy for each possible representation\u001B[39;00m\n\u001B[0;32m--> 213\u001B[0m y_type, y_true, y_pred \u001B[38;5;241m=\u001B[39m _check_targets(y_true, y_pred)\n\u001B[1;32m    214\u001B[0m check_consistent_length(y_true, y_pred, sample_weight)\n\u001B[1;32m    215\u001B[0m \u001B[38;5;28;01mif\u001B[39;00m y_type\u001B[38;5;241m.\u001B[39mstartswith(\u001B[38;5;124m\"\u001B[39m\u001B[38;5;124mmultilabel\u001B[39m\u001B[38;5;124m\"\u001B[39m):\n",
      "File \u001B[0;32m/opt/anaconda3/lib/python3.12/site-packages/sklearn/metrics/_classification.py:85\u001B[0m, in \u001B[0;36m_check_targets\u001B[0;34m(y_true, y_pred)\u001B[0m\n\u001B[1;32m     58\u001B[0m \u001B[38;5;28;01mdef\u001B[39;00m \u001B[38;5;21m_check_targets\u001B[39m(y_true, y_pred):\n\u001B[1;32m     59\u001B[0m \u001B[38;5;250m    \u001B[39m\u001B[38;5;124;03m\"\"\"Check that y_true and y_pred belong to the same classification task.\u001B[39;00m\n\u001B[1;32m     60\u001B[0m \n\u001B[1;32m     61\u001B[0m \u001B[38;5;124;03m    This converts multiclass or binary types to a common shape, and raises a\u001B[39;00m\n\u001B[0;32m   (...)\u001B[0m\n\u001B[1;32m     83\u001B[0m \u001B[38;5;124;03m    y_pred : array or indicator matrix\u001B[39;00m\n\u001B[1;32m     84\u001B[0m \u001B[38;5;124;03m    \"\"\"\u001B[39;00m\n\u001B[0;32m---> 85\u001B[0m     check_consistent_length(y_true, y_pred)\n\u001B[1;32m     86\u001B[0m     type_true \u001B[38;5;241m=\u001B[39m type_of_target(y_true, input_name\u001B[38;5;241m=\u001B[39m\u001B[38;5;124m\"\u001B[39m\u001B[38;5;124my_true\u001B[39m\u001B[38;5;124m\"\u001B[39m)\n\u001B[1;32m     87\u001B[0m     type_pred \u001B[38;5;241m=\u001B[39m type_of_target(y_pred, input_name\u001B[38;5;241m=\u001B[39m\u001B[38;5;124m\"\u001B[39m\u001B[38;5;124my_pred\u001B[39m\u001B[38;5;124m\"\u001B[39m)\n",
      "File \u001B[0;32m/opt/anaconda3/lib/python3.12/site-packages/sklearn/utils/validation.py:457\u001B[0m, in \u001B[0;36mcheck_consistent_length\u001B[0;34m(*arrays)\u001B[0m\n\u001B[1;32m    455\u001B[0m uniques \u001B[38;5;241m=\u001B[39m np\u001B[38;5;241m.\u001B[39munique(lengths)\n\u001B[1;32m    456\u001B[0m \u001B[38;5;28;01mif\u001B[39;00m \u001B[38;5;28mlen\u001B[39m(uniques) \u001B[38;5;241m>\u001B[39m \u001B[38;5;241m1\u001B[39m:\n\u001B[0;32m--> 457\u001B[0m     \u001B[38;5;28;01mraise\u001B[39;00m \u001B[38;5;167;01mValueError\u001B[39;00m(\n\u001B[1;32m    458\u001B[0m         \u001B[38;5;124m\"\u001B[39m\u001B[38;5;124mFound input variables with inconsistent numbers of samples: \u001B[39m\u001B[38;5;132;01m%r\u001B[39;00m\u001B[38;5;124m\"\u001B[39m\n\u001B[1;32m    459\u001B[0m         \u001B[38;5;241m%\u001B[39m [\u001B[38;5;28mint\u001B[39m(l) \u001B[38;5;28;01mfor\u001B[39;00m l \u001B[38;5;129;01min\u001B[39;00m lengths]\n\u001B[1;32m    460\u001B[0m     )\n",
      "\u001B[0;31mValueError\u001B[0m: Found input variables with inconsistent numbers of samples: [6364, 1000]"
     ]
    }
   ],
   "execution_count": 145
  },
  {
   "metadata": {},
   "cell_type": "code",
   "outputs": [],
   "execution_count": null,
   "source": "",
   "id": "3dc89539af4e7453"
  }
 ],
 "metadata": {
  "kernelspec": {
   "display_name": "Python 3",
   "language": "python",
   "name": "python3"
  },
  "language_info": {
   "codemirror_mode": {
    "name": "ipython",
    "version": 2
   },
   "file_extension": ".py",
   "mimetype": "text/x-python",
   "name": "python",
   "nbconvert_exporter": "python",
   "pygments_lexer": "ipython2",
   "version": "2.7.6"
  }
 },
 "nbformat": 4,
 "nbformat_minor": 5
}
