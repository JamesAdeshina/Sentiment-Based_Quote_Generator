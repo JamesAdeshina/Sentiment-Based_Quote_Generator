{
 "cells": [
  {
   "cell_type": "code",
   "id": "initial_id",
   "metadata": {
    "collapsed": true,
    "ExecuteTime": {
     "end_time": "2024-11-27T23:07:48.116495Z",
     "start_time": "2024-11-27T23:07:23.347615Z"
    }
   },
   "source": [
    "import nltk\n",
    "nltk.download('vader_lexicon')\n",
    "import pandas as pd"
   ],
   "outputs": [
    {
     "name": "stderr",
     "output_type": "stream",
     "text": [
      "[nltk_data] Downloading package vader_lexicon to\n",
      "[nltk_data]     /Users/apple2015/nltk_data...\n"
     ]
    }
   ],
   "execution_count": 8
  },
  {
   "metadata": {
    "ExecuteTime": {
     "end_time": "2024-11-27T23:09:28.291969Z",
     "start_time": "2024-11-27T23:09:28.184636Z"
    }
   },
   "cell_type": "code",
   "source": [
    "#load the quotes stash\n",
    "quotes = pd.read_csv('data/quote_stash.csv')\n",
    "# quotes = quotes[['quote','author']]\n",
    "print(quotes.shape)\n",
    "\n",
    "quotes.head()"
   ],
   "id": "1a87415e29663495",
   "outputs": [
    {
     "name": "stdout",
     "output_type": "stream",
     "text": [
      "(108, 2)\n"
     ]
    },
    {
     "data": {
      "text/plain": [
       "                                               quote             author\n",
       "0        Pain is inevitable, but misery is optional.         Tim Hansel\n",
       "1  To avoid criticism, do nothing, say nothing, b...     Elbert Hubbard\n",
       "2  Believe and act as if it were impossible to fail.  Charles Kettering\n",
       "3  Never get out of the boat. Absolutely goddamn ...    Captain Willard\n",
       "4  Nobody can make you feel inferior without your...  Eleanor Roosevelt"
      ],
      "text/html": [
       "<div>\n",
       "<style scoped>\n",
       "    .dataframe tbody tr th:only-of-type {\n",
       "        vertical-align: middle;\n",
       "    }\n",
       "\n",
       "    .dataframe tbody tr th {\n",
       "        vertical-align: top;\n",
       "    }\n",
       "\n",
       "    .dataframe thead th {\n",
       "        text-align: right;\n",
       "    }\n",
       "</style>\n",
       "<table border=\"1\" class=\"dataframe\">\n",
       "  <thead>\n",
       "    <tr style=\"text-align: right;\">\n",
       "      <th></th>\n",
       "      <th>quote</th>\n",
       "      <th>author</th>\n",
       "    </tr>\n",
       "  </thead>\n",
       "  <tbody>\n",
       "    <tr>\n",
       "      <th>0</th>\n",
       "      <td>Pain is inevitable, but misery is optional.</td>\n",
       "      <td>Tim Hansel</td>\n",
       "    </tr>\n",
       "    <tr>\n",
       "      <th>1</th>\n",
       "      <td>To avoid criticism, do nothing, say nothing, b...</td>\n",
       "      <td>Elbert Hubbard</td>\n",
       "    </tr>\n",
       "    <tr>\n",
       "      <th>2</th>\n",
       "      <td>Believe and act as if it were impossible to fail.</td>\n",
       "      <td>Charles Kettering</td>\n",
       "    </tr>\n",
       "    <tr>\n",
       "      <th>3</th>\n",
       "      <td>Never get out of the boat. Absolutely goddamn ...</td>\n",
       "      <td>Captain Willard</td>\n",
       "    </tr>\n",
       "    <tr>\n",
       "      <th>4</th>\n",
       "      <td>Nobody can make you feel inferior without your...</td>\n",
       "      <td>Eleanor Roosevelt</td>\n",
       "    </tr>\n",
       "  </tbody>\n",
       "</table>\n",
       "</div>"
      ]
     },
     "execution_count": 10,
     "metadata": {},
     "output_type": "execute_result"
    }
   ],
   "execution_count": 10
  },
  {
   "metadata": {
    "ExecuteTime": {
     "end_time": "2024-11-27T22:22:03.916416Z",
     "start_time": "2024-11-27T22:22:03.836171Z"
    }
   },
   "cell_type": "code",
   "outputs": [
    {
     "data": {
      "text/plain": [
       "                                               quote             author\n",
       "0        Pain is inevitable, but misery is optional.         Tim Hansel\n",
       "1  To avoid criticism, do nothing, say nothing, b...     Elbert Hubbard\n",
       "2  Believe and act as if it were impossible to fail.  Charles Kettering\n",
       "3  Never get out of the boat. Absolutely goddamn ...    Captain Willard\n",
       "4  Nobody can make you feel inferior without your...  Eleanor Roosevelt"
      ],
      "text/html": [
       "<div>\n",
       "<style scoped>\n",
       "    .dataframe tbody tr th:only-of-type {\n",
       "        vertical-align: middle;\n",
       "    }\n",
       "\n",
       "    .dataframe tbody tr th {\n",
       "        vertical-align: top;\n",
       "    }\n",
       "\n",
       "    .dataframe thead th {\n",
       "        text-align: right;\n",
       "    }\n",
       "</style>\n",
       "<table border=\"1\" class=\"dataframe\">\n",
       "  <thead>\n",
       "    <tr style=\"text-align: right;\">\n",
       "      <th></th>\n",
       "      <th>quote</th>\n",
       "      <th>author</th>\n",
       "    </tr>\n",
       "  </thead>\n",
       "  <tbody>\n",
       "    <tr>\n",
       "      <th>0</th>\n",
       "      <td>Pain is inevitable, but misery is optional.</td>\n",
       "      <td>Tim Hansel</td>\n",
       "    </tr>\n",
       "    <tr>\n",
       "      <th>1</th>\n",
       "      <td>To avoid criticism, do nothing, say nothing, b...</td>\n",
       "      <td>Elbert Hubbard</td>\n",
       "    </tr>\n",
       "    <tr>\n",
       "      <th>2</th>\n",
       "      <td>Believe and act as if it were impossible to fail.</td>\n",
       "      <td>Charles Kettering</td>\n",
       "    </tr>\n",
       "    <tr>\n",
       "      <th>3</th>\n",
       "      <td>Never get out of the boat. Absolutely goddamn ...</td>\n",
       "      <td>Captain Willard</td>\n",
       "    </tr>\n",
       "    <tr>\n",
       "      <th>4</th>\n",
       "      <td>Nobody can make you feel inferior without your...</td>\n",
       "      <td>Eleanor Roosevelt</td>\n",
       "    </tr>\n",
       "  </tbody>\n",
       "</table>\n",
       "</div>"
      ]
     },
     "execution_count": 2,
     "metadata": {},
     "output_type": "execute_result"
    }
   ],
   "execution_count": 2,
   "source": "quotes.head()",
   "id": "67edbde5fe182a80"
  },
  {
   "metadata": {
    "ExecuteTime": {
     "end_time": "2024-11-27T22:30:58.333770Z",
     "start_time": "2024-11-27T22:30:58.247103Z"
    }
   },
   "cell_type": "code",
   "source": "quotes = quotes.drop_duplicates(subset='author', keep='last')",
   "id": "d50acc07761be628",
   "outputs": [],
   "execution_count": 5
  },
  {
   "metadata": {
    "ExecuteTime": {
     "end_time": "2024-11-27T22:31:19.685372Z",
     "start_time": "2024-11-27T22:31:19.664677Z"
    }
   },
   "cell_type": "code",
   "source": "quotes.head()",
   "id": "a8592a4881255a24",
   "outputs": [
    {
     "data": {
      "text/plain": [
       "                                               quote             author\n",
       "0        Pain is inevitable, but misery is optional.         Tim Hansel\n",
       "1  To avoid criticism, do nothing, say nothing, b...     Elbert Hubbard\n",
       "2  Believe and act as if it were impossible to fail.  Charles Kettering\n",
       "3  Never get out of the boat. Absolutely goddamn ...    Captain Willard\n",
       "4  Nobody can make you feel inferior without your...  Eleanor Roosevelt"
      ],
      "text/html": [
       "<div>\n",
       "<style scoped>\n",
       "    .dataframe tbody tr th:only-of-type {\n",
       "        vertical-align: middle;\n",
       "    }\n",
       "\n",
       "    .dataframe tbody tr th {\n",
       "        vertical-align: top;\n",
       "    }\n",
       "\n",
       "    .dataframe thead th {\n",
       "        text-align: right;\n",
       "    }\n",
       "</style>\n",
       "<table border=\"1\" class=\"dataframe\">\n",
       "  <thead>\n",
       "    <tr style=\"text-align: right;\">\n",
       "      <th></th>\n",
       "      <th>quote</th>\n",
       "      <th>author</th>\n",
       "    </tr>\n",
       "  </thead>\n",
       "  <tbody>\n",
       "    <tr>\n",
       "      <th>0</th>\n",
       "      <td>Pain is inevitable, but misery is optional.</td>\n",
       "      <td>Tim Hansel</td>\n",
       "    </tr>\n",
       "    <tr>\n",
       "      <th>1</th>\n",
       "      <td>To avoid criticism, do nothing, say nothing, b...</td>\n",
       "      <td>Elbert Hubbard</td>\n",
       "    </tr>\n",
       "    <tr>\n",
       "      <th>2</th>\n",
       "      <td>Believe and act as if it were impossible to fail.</td>\n",
       "      <td>Charles Kettering</td>\n",
       "    </tr>\n",
       "    <tr>\n",
       "      <th>3</th>\n",
       "      <td>Never get out of the boat. Absolutely goddamn ...</td>\n",
       "      <td>Captain Willard</td>\n",
       "    </tr>\n",
       "    <tr>\n",
       "      <th>4</th>\n",
       "      <td>Nobody can make you feel inferior without your...</td>\n",
       "      <td>Eleanor Roosevelt</td>\n",
       "    </tr>\n",
       "  </tbody>\n",
       "</table>\n",
       "</div>"
      ]
     },
     "execution_count": 6,
     "metadata": {},
     "output_type": "execute_result"
    }
   ],
   "execution_count": 6
  },
  {
   "metadata": {},
   "cell_type": "code",
   "outputs": [],
   "execution_count": null,
   "source": "",
   "id": "689b30100b0bc17c"
  }
 ],
 "metadata": {
  "kernelspec": {
   "display_name": "Python 3",
   "language": "python",
   "name": "python3"
  },
  "language_info": {
   "codemirror_mode": {
    "name": "ipython",
    "version": 2
   },
   "file_extension": ".py",
   "mimetype": "text/x-python",
   "name": "python",
   "nbconvert_exporter": "python",
   "pygments_lexer": "ipython2",
   "version": "2.7.6"
  }
 },
 "nbformat": 4,
 "nbformat_minor": 5
}
