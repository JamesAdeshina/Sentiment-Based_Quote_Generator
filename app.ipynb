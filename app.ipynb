{
 "cells": [
  {
   "cell_type": "code",
   "id": "initial_id",
   "metadata": {
    "collapsed": true,
    "ExecuteTime": {
     "end_time": "2024-11-27T23:07:48.116495Z",
     "start_time": "2024-11-27T23:07:23.347615Z"
    }
   },
   "source": [
    "import nltk\n",
    "nltk.download('vader_lexicon')\n",
    "import pandas as pd"
   ],
   "outputs": [
    {
     "name": "stderr",
     "output_type": "stream",
     "text": [
      "[nltk_data] Downloading package vader_lexicon to\n",
      "[nltk_data]     /Users/apple2015/nltk_data...\n"
     ]
    }
   ],
   "execution_count": 8
  },
  {
   "metadata": {
    "ExecuteTime": {
     "end_time": "2024-11-28T23:13:44.679290Z",
     "start_time": "2024-11-28T23:13:44.414006Z"
    }
   },
   "cell_type": "code",
   "source": [
    "#load the quotes stash\n",
    "quotes = pd.read_csv('data/quote_stash.csv')\n",
    "# quotes = quotes[['quote','author']]\n",
    "print(quotes.shape)\n",
    "\n",
    "quotes.head()"
   ],
   "id": "1a87415e29663495",
   "outputs": [
    {
     "name": "stdout",
     "output_type": "stream",
     "text": [
      "(108, 2)\n"
     ]
    },
    {
     "data": {
      "text/plain": [
       "                                               quote             author\n",
       "0        Pain is inevitable, but misery is optional.         Tim Hansel\n",
       "1  To avoid criticism, do nothing, say nothing, b...     Elbert Hubbard\n",
       "2  Believe and act as if it were impossible to fail.  Charles Kettering\n",
       "3  Never get out of the boat. Absolutely goddamn ...    Captain Willard\n",
       "4  Nobody can make you feel inferior without your...  Eleanor Roosevelt"
      ],
      "text/html": [
       "<div>\n",
       "<style scoped>\n",
       "    .dataframe tbody tr th:only-of-type {\n",
       "        vertical-align: middle;\n",
       "    }\n",
       "\n",
       "    .dataframe tbody tr th {\n",
       "        vertical-align: top;\n",
       "    }\n",
       "\n",
       "    .dataframe thead th {\n",
       "        text-align: right;\n",
       "    }\n",
       "</style>\n",
       "<table border=\"1\" class=\"dataframe\">\n",
       "  <thead>\n",
       "    <tr style=\"text-align: right;\">\n",
       "      <th></th>\n",
       "      <th>quote</th>\n",
       "      <th>author</th>\n",
       "    </tr>\n",
       "  </thead>\n",
       "  <tbody>\n",
       "    <tr>\n",
       "      <th>0</th>\n",
       "      <td>Pain is inevitable, but misery is optional.</td>\n",
       "      <td>Tim Hansel</td>\n",
       "    </tr>\n",
       "    <tr>\n",
       "      <th>1</th>\n",
       "      <td>To avoid criticism, do nothing, say nothing, b...</td>\n",
       "      <td>Elbert Hubbard</td>\n",
       "    </tr>\n",
       "    <tr>\n",
       "      <th>2</th>\n",
       "      <td>Believe and act as if it were impossible to fail.</td>\n",
       "      <td>Charles Kettering</td>\n",
       "    </tr>\n",
       "    <tr>\n",
       "      <th>3</th>\n",
       "      <td>Never get out of the boat. Absolutely goddamn ...</td>\n",
       "      <td>Captain Willard</td>\n",
       "    </tr>\n",
       "    <tr>\n",
       "      <th>4</th>\n",
       "      <td>Nobody can make you feel inferior without your...</td>\n",
       "      <td>Eleanor Roosevelt</td>\n",
       "    </tr>\n",
       "  </tbody>\n",
       "</table>\n",
       "</div>"
      ]
     },
     "execution_count": 21,
     "metadata": {},
     "output_type": "execute_result"
    }
   ],
   "execution_count": 21
  },
  {
   "metadata": {
    "ExecuteTime": {
     "end_time": "2024-11-27T22:22:03.916416Z",
     "start_time": "2024-11-27T22:22:03.836171Z"
    }
   },
   "cell_type": "code",
   "outputs": [
    {
     "data": {
      "text/plain": [
       "                                               quote             author\n",
       "0        Pain is inevitable, but misery is optional.         Tim Hansel\n",
       "1  To avoid criticism, do nothing, say nothing, b...     Elbert Hubbard\n",
       "2  Believe and act as if it were impossible to fail.  Charles Kettering\n",
       "3  Never get out of the boat. Absolutely goddamn ...    Captain Willard\n",
       "4  Nobody can make you feel inferior without your...  Eleanor Roosevelt"
      ],
      "text/html": [
       "<div>\n",
       "<style scoped>\n",
       "    .dataframe tbody tr th:only-of-type {\n",
       "        vertical-align: middle;\n",
       "    }\n",
       "\n",
       "    .dataframe tbody tr th {\n",
       "        vertical-align: top;\n",
       "    }\n",
       "\n",
       "    .dataframe thead th {\n",
       "        text-align: right;\n",
       "    }\n",
       "</style>\n",
       "<table border=\"1\" class=\"dataframe\">\n",
       "  <thead>\n",
       "    <tr style=\"text-align: right;\">\n",
       "      <th></th>\n",
       "      <th>quote</th>\n",
       "      <th>author</th>\n",
       "    </tr>\n",
       "  </thead>\n",
       "  <tbody>\n",
       "    <tr>\n",
       "      <th>0</th>\n",
       "      <td>Pain is inevitable, but misery is optional.</td>\n",
       "      <td>Tim Hansel</td>\n",
       "    </tr>\n",
       "    <tr>\n",
       "      <th>1</th>\n",
       "      <td>To avoid criticism, do nothing, say nothing, b...</td>\n",
       "      <td>Elbert Hubbard</td>\n",
       "    </tr>\n",
       "    <tr>\n",
       "      <th>2</th>\n",
       "      <td>Believe and act as if it were impossible to fail.</td>\n",
       "      <td>Charles Kettering</td>\n",
       "    </tr>\n",
       "    <tr>\n",
       "      <th>3</th>\n",
       "      <td>Never get out of the boat. Absolutely goddamn ...</td>\n",
       "      <td>Captain Willard</td>\n",
       "    </tr>\n",
       "    <tr>\n",
       "      <th>4</th>\n",
       "      <td>Nobody can make you feel inferior without your...</td>\n",
       "      <td>Eleanor Roosevelt</td>\n",
       "    </tr>\n",
       "  </tbody>\n",
       "</table>\n",
       "</div>"
      ]
     },
     "execution_count": 2,
     "metadata": {},
     "output_type": "execute_result"
    }
   ],
   "execution_count": 2,
   "source": "quotes.head()",
   "id": "67edbde5fe182a80"
  },
  {
   "metadata": {
    "ExecuteTime": {
     "end_time": "2024-11-27T22:30:58.333770Z",
     "start_time": "2024-11-27T22:30:58.247103Z"
    }
   },
   "cell_type": "code",
   "source": "quotes = quotes.drop_duplicates(subset='author', keep='last')",
   "id": "d50acc07761be628",
   "outputs": [],
   "execution_count": 5
  },
  {
   "metadata": {
    "ExecuteTime": {
     "end_time": "2024-11-27T22:31:19.685372Z",
     "start_time": "2024-11-27T22:31:19.664677Z"
    }
   },
   "cell_type": "code",
   "source": "quotes.head()",
   "id": "a8592a4881255a24",
   "outputs": [
    {
     "data": {
      "text/plain": [
       "                                               quote             author\n",
       "0        Pain is inevitable, but misery is optional.         Tim Hansel\n",
       "1  To avoid criticism, do nothing, say nothing, b...     Elbert Hubbard\n",
       "2  Believe and act as if it were impossible to fail.  Charles Kettering\n",
       "3  Never get out of the boat. Absolutely goddamn ...    Captain Willard\n",
       "4  Nobody can make you feel inferior without your...  Eleanor Roosevelt"
      ],
      "text/html": [
       "<div>\n",
       "<style scoped>\n",
       "    .dataframe tbody tr th:only-of-type {\n",
       "        vertical-align: middle;\n",
       "    }\n",
       "\n",
       "    .dataframe tbody tr th {\n",
       "        vertical-align: top;\n",
       "    }\n",
       "\n",
       "    .dataframe thead th {\n",
       "        text-align: right;\n",
       "    }\n",
       "</style>\n",
       "<table border=\"1\" class=\"dataframe\">\n",
       "  <thead>\n",
       "    <tr style=\"text-align: right;\">\n",
       "      <th></th>\n",
       "      <th>quote</th>\n",
       "      <th>author</th>\n",
       "    </tr>\n",
       "  </thead>\n",
       "  <tbody>\n",
       "    <tr>\n",
       "      <th>0</th>\n",
       "      <td>Pain is inevitable, but misery is optional.</td>\n",
       "      <td>Tim Hansel</td>\n",
       "    </tr>\n",
       "    <tr>\n",
       "      <th>1</th>\n",
       "      <td>To avoid criticism, do nothing, say nothing, b...</td>\n",
       "      <td>Elbert Hubbard</td>\n",
       "    </tr>\n",
       "    <tr>\n",
       "      <th>2</th>\n",
       "      <td>Believe and act as if it were impossible to fail.</td>\n",
       "      <td>Charles Kettering</td>\n",
       "    </tr>\n",
       "    <tr>\n",
       "      <th>3</th>\n",
       "      <td>Never get out of the boat. Absolutely goddamn ...</td>\n",
       "      <td>Captain Willard</td>\n",
       "    </tr>\n",
       "    <tr>\n",
       "      <th>4</th>\n",
       "      <td>Nobody can make you feel inferior without your...</td>\n",
       "      <td>Eleanor Roosevelt</td>\n",
       "    </tr>\n",
       "  </tbody>\n",
       "</table>\n",
       "</div>"
      ]
     },
     "execution_count": 6,
     "metadata": {},
     "output_type": "execute_result"
    }
   ],
   "execution_count": 6
  },
  {
   "metadata": {
    "ExecuteTime": {
     "end_time": "2024-11-28T23:05:24.471164Z",
     "start_time": "2024-11-28T23:05:23.637886Z"
    }
   },
   "cell_type": "code",
   "source": [
    "from nltk.sentiment.vader import SentimentIntensityAnalyzer\n",
    "\n",
    "sia =  SentimentIntensityAnalyzer()"
   ],
   "id": "689b30100b0bc17c",
   "outputs": [],
   "execution_count": 11
  },
  {
   "metadata": {
    "ExecuteTime": {
     "end_time": "2024-11-28T23:05:26.303157Z",
     "start_time": "2024-11-28T23:05:26.263569Z"
    }
   },
   "cell_type": "code",
   "source": [
    "# Example\n",
    "quote = \"The only limit to our realization of tomorrow is our doubts of today.\"\n",
    "\n",
    "sentiment = sia.polarity_scores(quote)"
   ],
   "id": "7d00ddd72098a979",
   "outputs": [],
   "execution_count": 12
  },
  {
   "metadata": {
    "ExecuteTime": {
     "end_time": "2024-11-28T23:05:28.168328Z",
     "start_time": "2024-11-28T23:05:28.155205Z"
    }
   },
   "cell_type": "code",
   "source": [
    "print(sentiment)\n",
    "# Output: {'neg': 0.0, 'neu': 0.601, 'pos': 0.399, 'compound': 0.4404}\n"
   ],
   "id": "65ff10daa8b699a6",
   "outputs": [
    {
     "name": "stdout",
     "output_type": "stream",
     "text": [
      "{'neg': 0.155, 'neu': 0.845, 'pos': 0.0, 'compound': -0.296}\n"
     ]
    }
   ],
   "execution_count": 13
  },
  {
   "metadata": {
    "ExecuteTime": {
     "end_time": "2024-11-28T23:16:00.330138Z",
     "start_time": "2024-11-28T23:16:00.304590Z"
    }
   },
   "cell_type": "code",
   "source": [
    "#function to get sentiment labels\n",
    "def get_sentiment_label(quote_v):\n",
    "    sentiment = sia.polarity_scores(quote_v)\n",
    "    compound = sentiment['compound']\n",
    "    if compound >= 0.05:\n",
    "        return \"Positive\"\n",
    "    elif compound <= -0.05:\n",
    "        return \"Negative\"\n",
    "    else:\n",
    "        return \"Neutral\""
   ],
   "id": "2c5be21ea0034865",
   "outputs": [],
   "execution_count": 24
  },
  {
   "metadata": {
    "ExecuteTime": {
     "end_time": "2024-11-28T23:18:34.228697Z",
     "start_time": "2024-11-28T23:18:34.202509Z"
    }
   },
   "cell_type": "code",
   "source": [
    "data = quotes['quote']\n",
    "df = pd.DataFrame(data)\n",
    "\n",
    "df"
   ],
   "id": "d8e1889bc102b4f0",
   "outputs": [
    {
     "data": {
      "text/plain": [
       "                                                 quote\n",
       "0          Pain is inevitable, but misery is optional.\n",
       "1    To avoid criticism, do nothing, say nothing, b...\n",
       "2    Believe and act as if it were impossible to fail.\n",
       "3    Never get out of the boat. Absolutely goddamn ...\n",
       "4    Nobody can make you feel inferior without your...\n",
       "..                                                 ...\n",
       "103   Don’t wish it were easier, wish you were better.\n",
       "104  Out yonder there was this huge world, which ex...\n",
       "105  Life is beautiful, so long as it is consuming ...\n",
       "106  I offer you peace. I offer you love. I offer y...\n",
       "107  When we are mindful, deeply in touch with the ...\n",
       "\n",
       "[108 rows x 1 columns]"
      ],
      "text/html": [
       "<div>\n",
       "<style scoped>\n",
       "    .dataframe tbody tr th:only-of-type {\n",
       "        vertical-align: middle;\n",
       "    }\n",
       "\n",
       "    .dataframe tbody tr th {\n",
       "        vertical-align: top;\n",
       "    }\n",
       "\n",
       "    .dataframe thead th {\n",
       "        text-align: right;\n",
       "    }\n",
       "</style>\n",
       "<table border=\"1\" class=\"dataframe\">\n",
       "  <thead>\n",
       "    <tr style=\"text-align: right;\">\n",
       "      <th></th>\n",
       "      <th>quote</th>\n",
       "    </tr>\n",
       "  </thead>\n",
       "  <tbody>\n",
       "    <tr>\n",
       "      <th>0</th>\n",
       "      <td>Pain is inevitable, but misery is optional.</td>\n",
       "    </tr>\n",
       "    <tr>\n",
       "      <th>1</th>\n",
       "      <td>To avoid criticism, do nothing, say nothing, b...</td>\n",
       "    </tr>\n",
       "    <tr>\n",
       "      <th>2</th>\n",
       "      <td>Believe and act as if it were impossible to fail.</td>\n",
       "    </tr>\n",
       "    <tr>\n",
       "      <th>3</th>\n",
       "      <td>Never get out of the boat. Absolutely goddamn ...</td>\n",
       "    </tr>\n",
       "    <tr>\n",
       "      <th>4</th>\n",
       "      <td>Nobody can make you feel inferior without your...</td>\n",
       "    </tr>\n",
       "    <tr>\n",
       "      <th>...</th>\n",
       "      <td>...</td>\n",
       "    </tr>\n",
       "    <tr>\n",
       "      <th>103</th>\n",
       "      <td>Don’t wish it were easier, wish you were better.</td>\n",
       "    </tr>\n",
       "    <tr>\n",
       "      <th>104</th>\n",
       "      <td>Out yonder there was this huge world, which ex...</td>\n",
       "    </tr>\n",
       "    <tr>\n",
       "      <th>105</th>\n",
       "      <td>Life is beautiful, so long as it is consuming ...</td>\n",
       "    </tr>\n",
       "    <tr>\n",
       "      <th>106</th>\n",
       "      <td>I offer you peace. I offer you love. I offer y...</td>\n",
       "    </tr>\n",
       "    <tr>\n",
       "      <th>107</th>\n",
       "      <td>When we are mindful, deeply in touch with the ...</td>\n",
       "    </tr>\n",
       "  </tbody>\n",
       "</table>\n",
       "<p>108 rows × 1 columns</p>\n",
       "</div>"
      ]
     },
     "execution_count": 30,
     "metadata": {},
     "output_type": "execute_result"
    }
   ],
   "execution_count": 30
  },
  {
   "metadata": {
    "ExecuteTime": {
     "end_time": "2024-11-28T23:18:52.008176Z",
     "start_time": "2024-11-28T23:18:51.925528Z"
    }
   },
   "cell_type": "code",
   "source": "df['Sentiment'] = df['quote'].apply(get_sentiment_label)",
   "id": "8351a35efa707577",
   "outputs": [],
   "execution_count": 31
  },
  {
   "metadata": {
    "ExecuteTime": {
     "end_time": "2024-11-28T23:20:12.924458Z",
     "start_time": "2024-11-28T23:20:12.907629Z"
    }
   },
   "cell_type": "code",
   "source": "print(df)",
   "id": "cb5f6fd0b6708aca",
   "outputs": [
    {
     "name": "stdout",
     "output_type": "stream",
     "text": [
      "                                                 quote Sentiment\n",
      "0          Pain is inevitable, but misery is optional.  Negative\n",
      "1    To avoid criticism, do nothing, say nothing, b...  Negative\n",
      "2    Believe and act as if it were impossible to fail.  Negative\n",
      "3    Never get out of the boat. Absolutely goddamn ...  Negative\n",
      "4    Nobody can make you feel inferior without your...  Negative\n",
      "..                                                 ...       ...\n",
      "103   Don’t wish it were easier, wish you were better.  Positive\n",
      "104  Out yonder there was this huge world, which ex...  Positive\n",
      "105  Life is beautiful, so long as it is consuming ...  Positive\n",
      "106  I offer you peace. I offer you love. I offer y...  Positive\n",
      "107  When we are mindful, deeply in touch with the ...  Positive\n",
      "\n",
      "[108 rows x 2 columns]\n"
     ]
    }
   ],
   "execution_count": 35
  },
  {
   "metadata": {
    "ExecuteTime": {
     "end_time": "2024-11-28T23:25:27.465983Z",
     "start_time": "2024-11-28T23:25:27.387581Z"
    }
   },
   "cell_type": "code",
   "source": "df['author'] = quotes['author']",
   "id": "3f031b9ce0f3a546",
   "outputs": [],
   "execution_count": 36
  },
  {
   "metadata": {
    "ExecuteTime": {
     "end_time": "2024-11-28T23:25:33.459564Z",
     "start_time": "2024-11-28T23:25:33.396595Z"
    }
   },
   "cell_type": "code",
   "source": "df",
   "id": "88dbace1328cb1ae",
   "outputs": [
    {
     "data": {
      "text/plain": [
       "                                                 quote Sentiment  \\\n",
       "0          Pain is inevitable, but misery is optional.  Negative   \n",
       "1    To avoid criticism, do nothing, say nothing, b...  Negative   \n",
       "2    Believe and act as if it were impossible to fail.  Negative   \n",
       "3    Never get out of the boat. Absolutely goddamn ...  Negative   \n",
       "4    Nobody can make you feel inferior without your...  Negative   \n",
       "..                                                 ...       ...   \n",
       "103   Don’t wish it were easier, wish you were better.  Positive   \n",
       "104  Out yonder there was this huge world, which ex...  Positive   \n",
       "105  Life is beautiful, so long as it is consuming ...  Positive   \n",
       "106  I offer you peace. I offer you love. I offer y...  Positive   \n",
       "107  When we are mindful, deeply in touch with the ...  Positive   \n",
       "\n",
       "                author  \n",
       "0           Tim Hansel  \n",
       "1       Elbert Hubbard  \n",
       "2    Charles Kettering  \n",
       "3      Captain Willard  \n",
       "4    Eleanor Roosevelt  \n",
       "..                 ...  \n",
       "103           Jim Rohn  \n",
       "104    Albert Einstein  \n",
       "105      D.H. Lawrence  \n",
       "106     Mahatma Gandhi  \n",
       "107    Thich Nhat Hanh  \n",
       "\n",
       "[108 rows x 3 columns]"
      ],
      "text/html": [
       "<div>\n",
       "<style scoped>\n",
       "    .dataframe tbody tr th:only-of-type {\n",
       "        vertical-align: middle;\n",
       "    }\n",
       "\n",
       "    .dataframe tbody tr th {\n",
       "        vertical-align: top;\n",
       "    }\n",
       "\n",
       "    .dataframe thead th {\n",
       "        text-align: right;\n",
       "    }\n",
       "</style>\n",
       "<table border=\"1\" class=\"dataframe\">\n",
       "  <thead>\n",
       "    <tr style=\"text-align: right;\">\n",
       "      <th></th>\n",
       "      <th>quote</th>\n",
       "      <th>Sentiment</th>\n",
       "      <th>author</th>\n",
       "    </tr>\n",
       "  </thead>\n",
       "  <tbody>\n",
       "    <tr>\n",
       "      <th>0</th>\n",
       "      <td>Pain is inevitable, but misery is optional.</td>\n",
       "      <td>Negative</td>\n",
       "      <td>Tim Hansel</td>\n",
       "    </tr>\n",
       "    <tr>\n",
       "      <th>1</th>\n",
       "      <td>To avoid criticism, do nothing, say nothing, b...</td>\n",
       "      <td>Negative</td>\n",
       "      <td>Elbert Hubbard</td>\n",
       "    </tr>\n",
       "    <tr>\n",
       "      <th>2</th>\n",
       "      <td>Believe and act as if it were impossible to fail.</td>\n",
       "      <td>Negative</td>\n",
       "      <td>Charles Kettering</td>\n",
       "    </tr>\n",
       "    <tr>\n",
       "      <th>3</th>\n",
       "      <td>Never get out of the boat. Absolutely goddamn ...</td>\n",
       "      <td>Negative</td>\n",
       "      <td>Captain Willard</td>\n",
       "    </tr>\n",
       "    <tr>\n",
       "      <th>4</th>\n",
       "      <td>Nobody can make you feel inferior without your...</td>\n",
       "      <td>Negative</td>\n",
       "      <td>Eleanor Roosevelt</td>\n",
       "    </tr>\n",
       "    <tr>\n",
       "      <th>...</th>\n",
       "      <td>...</td>\n",
       "      <td>...</td>\n",
       "      <td>...</td>\n",
       "    </tr>\n",
       "    <tr>\n",
       "      <th>103</th>\n",
       "      <td>Don’t wish it were easier, wish you were better.</td>\n",
       "      <td>Positive</td>\n",
       "      <td>Jim Rohn</td>\n",
       "    </tr>\n",
       "    <tr>\n",
       "      <th>104</th>\n",
       "      <td>Out yonder there was this huge world, which ex...</td>\n",
       "      <td>Positive</td>\n",
       "      <td>Albert Einstein</td>\n",
       "    </tr>\n",
       "    <tr>\n",
       "      <th>105</th>\n",
       "      <td>Life is beautiful, so long as it is consuming ...</td>\n",
       "      <td>Positive</td>\n",
       "      <td>D.H. Lawrence</td>\n",
       "    </tr>\n",
       "    <tr>\n",
       "      <th>106</th>\n",
       "      <td>I offer you peace. I offer you love. I offer y...</td>\n",
       "      <td>Positive</td>\n",
       "      <td>Mahatma Gandhi</td>\n",
       "    </tr>\n",
       "    <tr>\n",
       "      <th>107</th>\n",
       "      <td>When we are mindful, deeply in touch with the ...</td>\n",
       "      <td>Positive</td>\n",
       "      <td>Thich Nhat Hanh</td>\n",
       "    </tr>\n",
       "  </tbody>\n",
       "</table>\n",
       "<p>108 rows × 3 columns</p>\n",
       "</div>"
      ]
     },
     "execution_count": 37,
     "metadata": {},
     "output_type": "execute_result"
    }
   ],
   "execution_count": 37
  },
  {
   "metadata": {
    "ExecuteTime": {
     "end_time": "2024-11-28T23:35:06.636604Z",
     "start_time": "2024-11-28T23:35:06.619625Z"
    }
   },
   "cell_type": "code",
   "source": [
    "# Display basic information about the DataFrame\n",
    "df.head()"
   ],
   "id": "796d302aee47b084",
   "outputs": [
    {
     "data": {
      "text/plain": [
       "                                               quote Sentiment  \\\n",
       "0        Pain is inevitable, but misery is optional.  Negative   \n",
       "1  To avoid criticism, do nothing, say nothing, b...  Negative   \n",
       "2  Believe and act as if it were impossible to fail.  Negative   \n",
       "3  Never get out of the boat. Absolutely goddamn ...  Negative   \n",
       "4  Nobody can make you feel inferior without your...  Negative   \n",
       "\n",
       "              author  \n",
       "0         Tim Hansel  \n",
       "1     Elbert Hubbard  \n",
       "2  Charles Kettering  \n",
       "3    Captain Willard  \n",
       "4  Eleanor Roosevelt  "
      ],
      "text/html": [
       "<div>\n",
       "<style scoped>\n",
       "    .dataframe tbody tr th:only-of-type {\n",
       "        vertical-align: middle;\n",
       "    }\n",
       "\n",
       "    .dataframe tbody tr th {\n",
       "        vertical-align: top;\n",
       "    }\n",
       "\n",
       "    .dataframe thead th {\n",
       "        text-align: right;\n",
       "    }\n",
       "</style>\n",
       "<table border=\"1\" class=\"dataframe\">\n",
       "  <thead>\n",
       "    <tr style=\"text-align: right;\">\n",
       "      <th></th>\n",
       "      <th>quote</th>\n",
       "      <th>Sentiment</th>\n",
       "      <th>author</th>\n",
       "    </tr>\n",
       "  </thead>\n",
       "  <tbody>\n",
       "    <tr>\n",
       "      <th>0</th>\n",
       "      <td>Pain is inevitable, but misery is optional.</td>\n",
       "      <td>Negative</td>\n",
       "      <td>Tim Hansel</td>\n",
       "    </tr>\n",
       "    <tr>\n",
       "      <th>1</th>\n",
       "      <td>To avoid criticism, do nothing, say nothing, b...</td>\n",
       "      <td>Negative</td>\n",
       "      <td>Elbert Hubbard</td>\n",
       "    </tr>\n",
       "    <tr>\n",
       "      <th>2</th>\n",
       "      <td>Believe and act as if it were impossible to fail.</td>\n",
       "      <td>Negative</td>\n",
       "      <td>Charles Kettering</td>\n",
       "    </tr>\n",
       "    <tr>\n",
       "      <th>3</th>\n",
       "      <td>Never get out of the boat. Absolutely goddamn ...</td>\n",
       "      <td>Negative</td>\n",
       "      <td>Captain Willard</td>\n",
       "    </tr>\n",
       "    <tr>\n",
       "      <th>4</th>\n",
       "      <td>Nobody can make you feel inferior without your...</td>\n",
       "      <td>Negative</td>\n",
       "      <td>Eleanor Roosevelt</td>\n",
       "    </tr>\n",
       "  </tbody>\n",
       "</table>\n",
       "</div>"
      ]
     },
     "execution_count": 42,
     "metadata": {},
     "output_type": "execute_result"
    }
   ],
   "execution_count": 42
  },
  {
   "metadata": {
    "ExecuteTime": {
     "end_time": "2024-11-28T23:35:37.601299Z",
     "start_time": "2024-11-28T23:35:37.590492Z"
    }
   },
   "cell_type": "code",
   "source": "df.info()",
   "id": "568f7942e92ddc7d",
   "outputs": [
    {
     "name": "stdout",
     "output_type": "stream",
     "text": [
      "<class 'pandas.core.frame.DataFrame'>\n",
      "RangeIndex: 108 entries, 0 to 107\n",
      "Data columns (total 3 columns):\n",
      " #   Column     Non-Null Count  Dtype \n",
      "---  ------     --------------  ----- \n",
      " 0   quote      108 non-null    object\n",
      " 1   Sentiment  108 non-null    object\n",
      " 2   author     108 non-null    object\n",
      "dtypes: object(3)\n",
      "memory usage: 2.7+ KB\n"
     ]
    }
   ],
   "execution_count": 44
  },
  {
   "metadata": {
    "ExecuteTime": {
     "end_time": "2024-11-28T23:37:50.298822Z",
     "start_time": "2024-11-28T23:37:50.264218Z"
    }
   },
   "cell_type": "code",
   "source": "print(df['Sentiment'].value_counts())  # Check sentiment distribution",
   "id": "661daa63ddf0292a",
   "outputs": [
    {
     "name": "stdout",
     "output_type": "stream",
     "text": [
      "Sentiment\n",
      "Positive    52\n",
      "Neutral     34\n",
      "Negative    22\n",
      "Name: count, dtype: int64\n"
     ]
    }
   ],
   "execution_count": 46
  },
  {
   "metadata": {
    "ExecuteTime": {
     "end_time": "2024-11-28T23:38:04.165767Z",
     "start_time": "2024-11-28T23:38:01.804789Z"
    }
   },
   "cell_type": "code",
   "source": [
    "# Visualize sentiment distribution\n",
    "import seaborn as sns\n",
    "import matplotlib.pyplot as plt"
   ],
   "id": "4335795213e272af",
   "outputs": [],
   "execution_count": 47
  },
  {
   "metadata": {
    "ExecuteTime": {
     "end_time": "2024-11-28T23:41:21.858395Z",
     "start_time": "2024-11-28T23:41:21.616950Z"
    }
   },
   "cell_type": "code",
   "source": [
    "# Updated countplot\n",
    "sns.countplot(data=df, x='Sentiment', palette='cool')\n",
    "plt.title('Sentiment Distribution')\n",
    "plt.xlabel('Sentiment')\n",
    "plt.ylabel('Count')\n",
    "plt.show()"
   ],
   "id": "eacfdb1fe82afc3d",
   "outputs": [
    {
     "name": "stderr",
     "output_type": "stream",
     "text": [
      "/var/folders/vq/2z3hvmh94k13pb_1b0fmr7wm0000gn/T/ipykernel_11746/2932032420.py:2: FutureWarning: \n",
      "\n",
      "Passing `palette` without assigning `hue` is deprecated and will be removed in v0.14.0. Assign the `x` variable to `hue` and set `legend=False` for the same effect.\n",
      "\n",
      "  sns.countplot(data=df, x='Sentiment', palette='cool')\n"
     ]
    },
    {
     "data": {
      "text/plain": [
       "<Figure size 640x480 with 1 Axes>"
      ],
      "image/png": "[encoded data removed]"
     },
     "metadata": {},
     "output_type": "display_data"
    }
   ],
   "execution_count": 53
  },
  {
   "metadata": {},
   "cell_type": "markdown",
   "source": "## Preprocessing Quotes",
   "id": "2039aaf0cfaf44e8"
  },
  {
   "metadata": {
    "ExecuteTime": {
     "end_time": "2024-11-28T23:55:37.940540Z",
     "start_time": "2024-11-28T23:55:37.865140Z"
    }
   },
   "cell_type": "code",
   "source": [
    "import re\n",
    "\n",
    "def preprocessing_text(text):\n",
    "    #Basic text cleaning\n",
    "    text = re.sub(r'[^a-zA-Z\\s]', '', text) # Remove special characters\n",
    "    text = text.lower().strip()\n",
    "    return text\n",
    "\n",
    "df['cleaned_quotes'] = df['quote'].apply(preprocessing_text)"
   ],
   "id": "c9f64a4fd427723f",
   "outputs": [],
   "execution_count": 57
  },
  {
   "metadata": {},
   "cell_type": "markdown",
   "source": "Explore removing Stopwords to see the impact on the model performance at the end",
   "id": "ce72f695c89d8477"
  },
  {
   "metadata": {
    "ExecuteTime": {
     "end_time": "2024-11-28T23:55:39.739679Z",
     "start_time": "2024-11-28T23:55:39.711865Z"
    }
   },
   "cell_type": "code",
   "source": [
    "from sklearn.model_selection import train_test_split\n",
    "df['cleaned_quotes']"
   ],
   "id": "5ebfce68b67d7972",
   "outputs": [
    {
     "data": {
      "text/plain": [
       "0              pain is inevitable but misery is optional\n",
       "1      to avoid criticism do nothing say nothing be n...\n",
       "2       believe and act as if it were impossible to fail\n",
       "3      never get out of the boat absolutely goddamn r...\n",
       "4      nobody can make you feel inferior without your...\n",
       "                             ...                        \n",
       "103        dont wish it were easier wish you were better\n",
       "104    out yonder there was this huge world which exi...\n",
       "105    life is beautiful so long as it is consuming y...\n",
       "106    i offer you peace i offer you love i offer you...\n",
       "107    when we are mindful deeply in touch with the p...\n",
       "Name: cleaned_quotes, Length: 108, dtype: object"
      ]
     },
     "execution_count": 58,
     "metadata": {},
     "output_type": "execute_result"
    }
   ],
   "execution_count": 58
  },
  {
   "metadata": {
    "ExecuteTime": {
     "end_time": "2024-11-28T23:58:38.794308Z",
     "start_time": "2024-11-28T23:58:38.778011Z"
    }
   },
   "cell_type": "code",
   "source": [
    "X = df['cleaned_quotes']  # Feature: cleaned quotes\n",
    "y = df['Sentiment']      # Target: sentiment labels\n"
   ],
   "id": "924cfb703952330c",
   "outputs": [],
   "execution_count": 60
  },
  {
   "metadata": {
    "ExecuteTime": {
     "end_time": "2024-11-28T23:58:41.357978Z",
     "start_time": "2024-11-28T23:58:41.189375Z"
    }
   },
   "cell_type": "code",
   "source": [
    "# Split the dataset\n",
    "X_train, X_test, y_train, y_test = train_test_split(X, y, test_size=0.2, random_state=42)\n"
   ],
   "id": "d836c149a6824504",
   "outputs": [],
   "execution_count": 61
  },
  {
   "metadata": {},
   "cell_type": "code",
   "outputs": [],
   "execution_count": null,
   "source": [
    "print(\"Training Set Size:\", len(X_train))\n",
    "print(\"Testing Set Size:\", len(X_test))"
   ],
   "id": "c10c04a4dfe95954"
  }
 ],
 "metadata": {
  "kernelspec": {
   "display_name": "Python 3",
   "language": "python",
   "name": "python3"
  },
  "language_info": {
   "codemirror_mode": {
    "name": "ipython",
    "version": 2
   },
   "file_extension": ".py",
   "mimetype": "text/x-python",
   "name": "python",
   "nbconvert_exporter": "python",
   "pygments_lexer": "ipython2",
   "version": "2.7.6"
  }
 },
 "nbformat": 4,
 "nbformat_minor": 5
}
